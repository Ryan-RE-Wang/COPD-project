{
 "cells": [
  {
   "cell_type": "code",
   "execution_count": null,
   "metadata": {},
   "outputs": [],
   "source": [
    "!nvidia-smi"
   ]
  },
  {
   "cell_type": "code",
   "execution_count": null,
   "metadata": {},
   "outputs": [],
   "source": [
    "import os\n",
    "os.environ['TF_CPP_MIN_LOG_LEVEL'] = '3' \n",
    "\n",
    "import warnings\n",
    "warnings.filterwarnings(\"ignore\")\n",
    "\n",
    "from Parse_TFrecords import *\n",
    "from define_model import *\n",
    "from load_label import *\n",
    "from utilities import *\n",
    "import gc\n",
    "import tensorflow as tf\n",
    "tf.compat.v1.logging.set_verbosity(tf.compat.v1.logging.ERROR)\n",
    "\n",
    "import numpy as np\n",
    "from sklearn.metrics import classification_report, average_precision_score\n",
    "\n",
    "gpus = tf.config.experimental.list_physical_devices('GPU')\n",
    "for gpu in gpus:\n",
    "    tf.config.experimental.set_memory_growth(gpu, True)\n",
    "    \n",
    "print(gpus)"
   ]
  },
  {
   "cell_type": "code",
   "execution_count": null,
   "metadata": {},
   "outputs": [],
   "source": [
    "BATCH_SIZE = 32\n",
    "dataset = 'mimic'\n",
    "\n",
    "record_file_test = 'tfrecords/copd_{a}_test.tfrecords'.format(a=dataset)\n",
    "test_dataset = (tf.data.TFRecordDataset(\n",
    "    record_file_test, buffer_size=BATCH_SIZE, compression_type=None, num_parallel_reads=32)\n",
    ".map(parse_TFrecord_test)\n",
    ".batch(BATCH_SIZE))\n",
    "\n",
    "y_test, y_demo = get_data_label(dataset=dataset, split='test', return_demo=True)"
   ]
  },
  {
   "cell_type": "code",
   "execution_count": null,
   "metadata": {},
   "outputs": [],
   "source": [
    "archis = ['DenseNet121', 'ResNet50V2', 'MobileNetV2', 'Xception']\n",
    "\n",
    "preds = []\n",
    "for archi in archis:\n",
    "    print(archi)\n",
    "    checkpoint_filepath = 'checkpoints_merged/checkpoint_BCE_{i}'.format(i=archi)\n",
    "    model = define_model(archi)\n",
    "    model.load_weights(checkpoint_filepath)\n",
    "    \n",
    "    y_pred = model.predict(test_dataset)\n",
    "    \n",
    "    test_CI(y_pred, y_test)\n",
    "\n",
    "    print(average_precision_score(y_test, y_pred, average=None))\n",
    "\n",
    "    thresh = get_thresh(y_test, y_pred, 'Youden')\n",
    "    print('thresh:', thresh)\n",
    "\n",
    "    print(classification_report(y_test, np.where(y_pred >= thresh, 1, 0)))\n",
    "\n",
    "\n",
    "    preds.append(y_pred)\n",
    "\n",
    "preds = np.array(preds)\n",
    "\n",
    "y_preds_ave = 0\n",
    "for i in range(4):\n",
    "    y_preds_ave += preds[i]\n",
    "\n",
    "y_preds_ave = y_preds_ave/4\n",
    "\n",
    "test_CI(y_preds_ave, y_test)\n",
    "\n",
    "print(average_precision_score(y_test, y_preds_ave, average=None))\n",
    "\n",
    "thresh = get_thresh(y_test, y_preds_ave, 'Youden')\n",
    "print('thresh:', thresh)\n",
    "\n",
    "print(classification_report(y_test, np.where(y_preds_ave >= thresh, 1, 0)))\n",
    "\n",
    "gc.collect()"
   ]
  },
  {
   "cell_type": "markdown",
   "metadata": {},
   "source": [
    "## Race"
   ]
  },
  {
   "cell_type": "code",
   "execution_count": null,
   "metadata": {},
   "outputs": [],
   "source": [
    "race_list = ['White', 'Black', 'Latino', 'Others', 'Asian']\n",
    "\n",
    "for race_num, race in enumerate(race_list):\n",
    "    print(race)\n",
    "    \n",
    "    idx = []\n",
    "    for i, l in enumerate(y_demo):\n",
    "        if (l['Race']==race_num):\n",
    "            idx.append(i)\n",
    "\n",
    "    test_CI(y_preds_ave[idx], y_test[idx])\n",
    "\n",
    "    print(average_precision_score(y_test[idx], y_preds_ave[idx], average=None))\n",
    "\n",
    "    thresh = get_thresh(y_test[idx], y_preds_ave[idx], 'Youden')\n",
    "    print('thresh:', thresh)\n",
    "\n",
    "    print(classification_report(y_test[idx], np.where(y_preds_ave[idx] >= thresh, 1, 0)))\n",
    "\n",
    "    gc.collect()"
   ]
  },
  {
   "cell_type": "markdown",
   "metadata": {},
   "source": [
    "## Gender"
   ]
  },
  {
   "cell_type": "code",
   "execution_count": null,
   "metadata": {},
   "outputs": [],
   "source": [
    "gender_list = ['Female', 'Male']\n",
    "\n",
    "for gender_num, gender in enumerate(gender_list):\n",
    "    print(gender)\n",
    "    \n",
    "    idx = []\n",
    "    for i, l in enumerate(y_demo):\n",
    "        if (l['Gender']==gender_num):\n",
    "            idx.append(i)\n",
    "\n",
    "    test_CI(y_preds_ave[idx], y_test[idx])\n",
    "\n",
    "    print(average_precision_score(y_test[idx], y_preds_ave[idx], average=None))\n",
    "\n",
    "    thresh = get_thresh(y_test[idx], y_preds_ave[idx], 'Youden')\n",
    "    print('thresh:', thresh)\n",
    "\n",
    "    print(classification_report(y_test[idx], np.where(y_preds_ave[idx] >= thresh, 1, 0)))\n",
    "\n",
    "    gc.collect()"
   ]
  },
  {
   "cell_type": "markdown",
   "metadata": {},
   "source": [
    "## Age"
   ]
  },
  {
   "cell_type": "code",
   "execution_count": null,
   "metadata": {},
   "outputs": [],
   "source": [
    "age_list = ['0-40', '40-60', '60-80', '80-']\n",
    "\n",
    "for age_num, age in enumerate(age_list):\n",
    "    print(age)\n",
    "    \n",
    "    idx = []\n",
    "    for i, l in enumerate(y_demo):\n",
    "        if (l['Age']==age_num):\n",
    "            idx.append(i)\n",
    "\n",
    "    test_CI(y_preds_ave[idx], y_test[idx])\n",
    "\n",
    "    print(average_precision_score(y_test[idx], y_preds_ave[idx], average=None))\n",
    "\n",
    "    thresh = get_thresh(y_test[idx], y_preds_ave[idx], 'Youden')\n",
    "    print('thresh:', thresh)\n",
    "\n",
    "    print(classification_report(y_test[idx], np.where(y_preds_ave[idx] >= thresh, 1, 0)))\n",
    "\n",
    "    gc.collect()"
   ]
  },
  {
   "cell_type": "code",
   "execution_count": null,
   "metadata": {},
   "outputs": [],
   "source": []
  }
 ],
 "metadata": {
  "kernelspec": {
   "display_name": "local-venv",
   "language": "python",
   "name": "local-venv"
  },
  "language_info": {
   "codemirror_mode": {
    "name": "ipython",
    "version": 3
   },
   "file_extension": ".py",
   "mimetype": "text/x-python",
   "name": "python",
   "nbconvert_exporter": "python",
   "pygments_lexer": "ipython3",
   "version": "3.9.7"
  }
 },
 "nbformat": 4,
 "nbformat_minor": 4
}
