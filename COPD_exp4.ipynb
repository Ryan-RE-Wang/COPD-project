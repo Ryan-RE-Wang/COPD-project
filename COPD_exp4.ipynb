{
 "cells": [
  {
   "cell_type": "code",
   "execution_count": 1,
   "metadata": {
    "scrolled": false
   },
   "outputs": [
    {
     "name": "stdout",
     "output_type": "stream",
     "text": [
      "Wed Jul 13 10:03:22 2022       \n",
      "+-----------------------------------------------------------------------------+\n",
      "| NVIDIA-SMI 510.60.02    Driver Version: 510.60.02    CUDA Version: 11.6     |\n",
      "|-------------------------------+----------------------+----------------------+\n",
      "| GPU  Name        Persistence-M| Bus-Id        Disp.A | Volatile Uncorr. ECC |\n",
      "| Fan  Temp  Perf  Pwr:Usage/Cap|         Memory-Usage | GPU-Util  Compute M. |\n",
      "|                               |                      |               MIG M. |\n",
      "|===============================+======================+======================|\n",
      "|   0  Quadro RTX 6000     On   | 00000000:1A:00.0 Off |                  Off |\n",
      "| 34%   28C    P8    32W / 260W |   9219MiB / 24576MiB |      0%      Default |\n",
      "|                               |                      |                  N/A |\n",
      "+-------------------------------+----------------------+----------------------+\n",
      "|   1  Quadro RTX 6000     On   | 00000000:1C:00.0 Off |                  Off |\n",
      "| 33%   32C    P8    29W / 260W |    619MiB / 24576MiB |      0%      Default |\n",
      "|                               |                      |                  N/A |\n",
      "+-------------------------------+----------------------+----------------------+\n",
      "|   2  Quadro RTX 6000     On   | 00000000:1D:00.0 Off |                  Off |\n",
      "| 33%   31C    P8    30W / 260W |    621MiB / 24576MiB |      0%      Default |\n",
      "|                               |                      |                  N/A |\n",
      "+-------------------------------+----------------------+----------------------+\n",
      "|   3  Quadro RTX 6000     On   | 00000000:1E:00.0 Off |                  Off |\n",
      "| 33%   29C    P8    27W / 260W |    623MiB / 24576MiB |      0%      Default |\n",
      "|                               |                      |                  N/A |\n",
      "+-------------------------------+----------------------+----------------------+\n",
      "|   4  Quadro RTX 6000     On   | 00000000:3D:00.0 Off |                  Off |\n",
      "| 33%   24C    P8    32W / 260W |   5706MiB / 24576MiB |      0%      Default |\n",
      "|                               |                      |                  N/A |\n",
      "+-------------------------------+----------------------+----------------------+\n",
      "|   5  Quadro RTX 6000     On   | 00000000:3F:00.0 Off |                  Off |\n",
      "| 33%   27C    P8    20W / 260W |    621MiB / 24576MiB |      0%      Default |\n",
      "|                               |                      |                  N/A |\n",
      "+-------------------------------+----------------------+----------------------+\n",
      "|   6  Quadro RTX 6000     On   | 00000000:40:00.0 Off |                  Off |\n",
      "| 33%   28C    P8    20W / 260W |    621MiB / 24576MiB |      0%      Default |\n",
      "|                               |                      |                  N/A |\n",
      "+-------------------------------+----------------------+----------------------+\n",
      "|   7  Quadro RTX 6000     On   | 00000000:41:00.0 Off |                  Off |\n",
      "| 33%   28C    P8    31W / 260W |    621MiB / 24576MiB |      0%      Default |\n",
      "|                               |                      |                  N/A |\n",
      "+-------------------------------+----------------------+----------------------+\n",
      "                                                                               \n",
      "+-----------------------------------------------------------------------------+\n",
      "| Processes:                                                                  |\n",
      "|  GPU   GI   CI        PID   Type   Process name                  GPU Memory |\n",
      "|        ID   ID                                                   Usage      |\n",
      "|=============================================================================|\n",
      "|    0   N/A  N/A      1709      C   ...onda/envs/hiti/bin/python     4799MiB |\n",
      "|    0   N/A  N/A     19683      C   ...onda/envs/hiti/bin/python     4415MiB |\n",
      "|    1   N/A  N/A      1709      C   ...onda/envs/hiti/bin/python      307MiB |\n",
      "|    1   N/A  N/A     19683      C   ...onda/envs/hiti/bin/python      307MiB |\n",
      "|    2   N/A  N/A      1709      C   ...onda/envs/hiti/bin/python      307MiB |\n",
      "|    2   N/A  N/A     19683      C   ...onda/envs/hiti/bin/python      307MiB |\n",
      "|    3   N/A  N/A      1709      C   ...onda/envs/hiti/bin/python      307MiB |\n",
      "|    3   N/A  N/A     19683      C   ...onda/envs/hiti/bin/python      307MiB |\n",
      "|    4   N/A  N/A      1709      C   ...onda/envs/hiti/bin/python      307MiB |\n",
      "|    4   N/A  N/A     19683      C   ...onda/envs/hiti/bin/python      307MiB |\n",
      "|    4   N/A  N/A     58540      C   /opt/tljh/user/bin/python        5085MiB |\n",
      "|    5   N/A  N/A      1709      C   ...onda/envs/hiti/bin/python      307MiB |\n",
      "|    5   N/A  N/A     19683      C   ...onda/envs/hiti/bin/python      307MiB |\n",
      "|    6   N/A  N/A      1709      C   ...onda/envs/hiti/bin/python      307MiB |\n",
      "|    6   N/A  N/A     19683      C   ...onda/envs/hiti/bin/python      307MiB |\n",
      "|    7   N/A  N/A      1709      C   ...onda/envs/hiti/bin/python      307MiB |\n",
      "|    7   N/A  N/A     19683      C   ...onda/envs/hiti/bin/python      307MiB |\n",
      "+-----------------------------------------------------------------------------+\n"
     ]
    }
   ],
   "source": [
    "!nvidia-smi"
   ]
  },
  {
   "cell_type": "code",
   "execution_count": 2,
   "metadata": {},
   "outputs": [],
   "source": [
    "import os\n",
    "os.environ['TF_CPP_MIN_LOG_LEVEL'] = '3' \n",
    "\n",
    "import warnings\n",
    "warnings.filterwarnings(\"ignore\")\n",
    "\n",
    "from Parse_TFrecords import *\n",
    "from define_model import *\n",
    "from load_label import *\n",
    "from utilities import *\n",
    "import gc\n",
    "import tensorflow as tf\n",
    "tf.compat.v1.logging.set_verbosity(tf.compat.v1.logging.ERROR)\n",
    "\n",
    "import numpy as np\n",
    "from sklearn.metrics import classification_report, average_precision_score\n",
    "\n",
    "gpus = tf.config.experimental.list_physical_devices('GPU')\n",
    "for gpu in gpus:\n",
    "    tf.config.experimental.set_memory_growth(gpu, True)"
   ]
  },
  {
   "cell_type": "markdown",
   "metadata": {},
   "source": [
    "## Model Ensembling "
   ]
  },
  {
   "cell_type": "code",
   "execution_count": 3,
   "metadata": {},
   "outputs": [],
   "source": [
    "BATCH_SIZE = 32\n",
    "\n",
    "pos = 72917\n",
    "neg = 263952\n",
    "\n",
    "total = pos+neg\n",
    "\n",
    "weight_for_0 = (1 / neg) * (total / 2.0)\n",
    "weight_for_1 = (1 / pos) * (total / 2.0)\n",
    "\n",
    "class_weight = {0: weight_for_0, 1: weight_for_1}"
   ]
  },
  {
   "cell_type": "markdown",
   "metadata": {},
   "source": [
    "## Prediction-based ensemble"
   ]
  },
  {
   "cell_type": "code",
   "execution_count": 4,
   "metadata": {},
   "outputs": [],
   "source": [
    "BATCH_SIZE = 32\n",
    "record_file_test = 'tfrecords/copd_mimic_test.tfrecords'\n",
    "test_dataset = (tf.data.TFRecordDataset(\n",
    "    record_file_test, buffer_size=BATCH_SIZE, compression_type=None, num_parallel_reads=32)\n",
    ".map(parse_TFrecord_test)\n",
    ".batch(BATCH_SIZE))\n",
    "\n",
    "y_test = get_data_label('mimic', 'test')"
   ]
  },
  {
   "cell_type": "code",
   "execution_count": null,
   "metadata": {},
   "outputs": [],
   "source": [
    "archis = ['DenseNet121', 'ResNet50V2', 'MobileNetV2', 'InceptionResNetV2', 'Xception',  'InceptionV3']\n",
    "\n",
    "preds = []\n",
    "for archi in archis:\n",
    "    checkpoint_filepath = 'checkpoints_mimic/checkpoint_BCE_{i}'.format(i=archi)\n",
    "    model = define_model(archi)\n",
    "    model.load_weights(checkpoint_filepath)\n",
    "\n",
    "    preds.append(model.predict(test_dataset))\n",
    "\n",
    "preds = np.array(preds)"
   ]
  },
  {
   "cell_type": "code",
   "execution_count": null,
   "metadata": {},
   "outputs": [],
   "source": [
    "y_preds_ave = 0\n",
    "for i in range(6):\n",
    "    y_preds_ave += preds[i]\n",
    "\n",
    "y_preds_ave = y_preds_ave/6\n",
    "        \n",
    "test_CI(y_preds_ave, y_test)\n",
    "\n",
    "print(average_precision_score(y_test, y_preds_ave, average=None))\n",
    "    \n",
    "thresh = get_thresh(y_test, y_preds_ave, 'Youden')\n",
    "print('thresh:', thresh)\n",
    "        \n",
    "print(classification_report(y_test, np.where(y_preds_ave >= thresh, 1, 0)))\n",
    "\n",
    "gc.collect()"
   ]
  },
  {
   "cell_type": "code",
   "execution_count": null,
   "metadata": {},
   "outputs": [],
   "source": [
    "y_preds_wei = 0\n",
    "for i in range(6):\n",
    "    if (i < 3):\n",
    "        y_preds_wei += preds[i]*3\n",
    "    elif (i < 4):\n",
    "        y_preds_wei += preds[i]*2\n",
    "    else:\n",
    "        y_preds_wei += preds[i]\n",
    "\n",
    "y_preds_wei = y_preds_wei/13\n",
    "        \n",
    "test_CI(y_preds_wei, y_test)\n",
    "\n",
    "print(average_precision_score(y_test, y_preds_wei, average=None))\n",
    "    \n",
    "thresh = get_thresh(y_test, y_preds_wei, 'Youden')\n",
    "print('thresh:', thresh)\n",
    "        \n",
    "print(classification_report(y_test, np.where(y_preds_wei >= thresh, 1, 0)))\n",
    "\n",
    "gc.collect()"
   ]
  }
 ],
 "metadata": {
  "kernelspec": {
   "display_name": "Python 3",
   "language": "python",
   "name": "python3"
  },
  "language_info": {
   "codemirror_mode": {
    "name": "ipython",
    "version": 3
   },
   "file_extension": ".py",
   "mimetype": "text/x-python",
   "name": "python",
   "nbconvert_exporter": "python",
   "pygments_lexer": "ipython3",
   "version": "3.7.3"
  }
 },
 "nbformat": 4,
 "nbformat_minor": 5
}
