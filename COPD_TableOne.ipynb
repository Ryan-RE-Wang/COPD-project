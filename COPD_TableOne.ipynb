{
 "cells": [
  {
   "cell_type": "code",
   "execution_count": null,
   "id": "corrected-possibility",
   "metadata": {},
   "outputs": [],
   "source": [
    "!nvidia-smi"
   ]
  },
  {
   "cell_type": "code",
   "execution_count": null,
   "id": "proper-stopping",
   "metadata": {},
   "outputs": [],
   "source": [
    "import tensorflow as tf\n",
    "import numpy as np\n",
    "import pandas as pd\n",
    "import warnings\n",
    "from sklearn.model_selection import train_test_split\n",
    "import os\n",
    "from tableone import TableOne, load_dataset\n",
    "import pandas as pd\n",
    "\n",
    " \n",
    "print(tf.__version__)\n",
    "\n",
    "warnings.filterwarnings(\"ignore\")\n",
    "\n",
    "gpus = tf.config.list_physical_devices(device_type='GPU')\n",
    "tf.config.set_visible_devices(devices=gpus[0], device_type='GPU')"
   ]
  },
  {
   "cell_type": "code",
   "execution_count": null,
   "id": "invalid-jewelry",
   "metadata": {},
   "outputs": [],
   "source": [
    "seed = 42\n",
    "os.environ['PYTHONHASHSEED']=str(seed)\n",
    "tf.random.set_seed(seed)\n",
    "np.random.seed(seed)"
   ]
  },
  {
   "cell_type": "code",
   "execution_count": null,
   "id": "champion-collect",
   "metadata": {},
   "outputs": [],
   "source": [
    "df_icu = pd.read_csv('Data/ICU_subject.csv')\n",
    "df_icu.fillna(0, inplace=True)\n",
    "df_icu"
   ]
  },
  {
   "cell_type": "code",
   "execution_count": null,
   "id": "animated-march",
   "metadata": {},
   "outputs": [],
   "source": [
    "df_ed = pd.read_csv('Data/ED_subject.csv')\n",
    "df_ed.fillna(0, inplace=True)\n",
    "df_ed"
   ]
  },
  {
   "cell_type": "code",
   "execution_count": null,
   "id": "supposed-classroom",
   "metadata": {},
   "outputs": [],
   "source": [
    "unique_subject_id_icu = list(set(df_icu['icu_subject']))\n",
    "unique_subject_id_ed = list(set(df_ed['ed_subject']))"
   ]
  },
  {
   "cell_type": "code",
   "execution_count": null,
   "id": "imposed-tunisia",
   "metadata": {},
   "outputs": [],
   "source": [
    "demographic = pd.read_csv('Data/demographic.csv')\n",
    "import random\n",
    "from statistics import mode, StatisticsError\n",
    "\n",
    "def most_common(l):\n",
    "    if (len(l) == 1):\n",
    "        return l[0]\n",
    "    \n",
    "    try:\n",
    "        most_common = mode(l)\n",
    "    except:\n",
    "        most_common = random.choice(l)\n",
    "    \n",
    "    if (most_common == 3): \n",
    "        second_common_list = [x for x in l if x != most_common]\n",
    "        if (len(second_common_list) > 0):\n",
    "            most_common = mode(second_common_list)\n",
    "    return most_common"
   ]
  },
  {
   "cell_type": "code",
   "execution_count": null,
   "id": "subject-transport",
   "metadata": {},
   "outputs": [],
   "source": [
    "from IPython import display\n",
    "new_race_list = []\n",
    "for i in demographic['race']:\n",
    "    l = list(i)\n",
    "    l = [x for x in l if x != ',']\n",
    "    new_race_list.append(most_common(l))"
   ]
  },
  {
   "cell_type": "code",
   "execution_count": null,
   "id": "bright-mentor",
   "metadata": {},
   "outputs": [],
   "source": [
    "demographic.drop('race',axis=1, inplace=True)\n",
    "demographic['race'] = new_race_list"
   ]
  },
  {
   "cell_type": "code",
   "execution_count": null,
   "id": "informed-house",
   "metadata": {},
   "outputs": [],
   "source": [
    "demographic.to_csv('Data/Processed_demo.csv')"
   ]
  },
  {
   "cell_type": "code",
   "execution_count": null,
   "id": "rising-thomas",
   "metadata": {},
   "outputs": [],
   "source": [
    "# create a dataframe containing each patient uniquely\n",
    "gender_array = []\n",
    "age_array = []\n",
    "races_array = []\n",
    "copd_array = []\n",
    "vs_array = []\n",
    "miss = 0\n",
    "for subject_id in unique_subject_id_icu:    \n",
    "    try:\n",
    "        gender = int(demographic.loc[demographic['subject_id'] == subject_id, 'gender'].values[0])\n",
    "        age = int(demographic.loc[demographic['subject_id'] == subject_id, 'anchor_age'].values[0])\n",
    "        race = int(demographic.loc[demographic['subject_id'] == subject_id, 'race'].values[0])\n",
    "    except:\n",
    "        miss += 0\n",
    "        gender = np.nan\n",
    "        age = np.nan\n",
    "        race = np.nan\n",
    "    copd_array.append(df_icu.loc[df_icu['icu_subject'] == subject_id, 'COPD'].values[0])\n",
    "    vs_array.append(df_icu.loc[df_icu['icu_subject'] == subject_id, 'ventilation_status'].values[0])\n",
    "    gender_array.append(gender)\n",
    "    age_array.append(age)\n",
    "    races_array.append(race)\n",
    "\n",
    "unique_df_icu = pd.DataFrame({'subject_id':unique_subject_id_icu, 'gender': gender_array, \n",
    "                              'age':age_array, 'race':races_array, \n",
    "                              'COPD':copd_array, 'ventilation_status': vs_array\n",
    "                             })\n",
    "print(miss)\n",
    "unique_df_icu"
   ]
  },
  {
   "cell_type": "code",
   "execution_count": null,
   "id": "introductory-france",
   "metadata": {},
   "outputs": [],
   "source": [
    "# create a dataframe containing each patient uniquely\n",
    "gender_array = []\n",
    "age_array = []\n",
    "races_array = []\n",
    "copd_array = []\n",
    "vs_array = []\n",
    "miss = 0\n",
    "for subject_id in unique_subject_id_ed:\n",
    "    try:\n",
    "        gender = int(demographic.loc[demographic['subject_id'] == subject_id, 'gender'].values[0])\n",
    "        age = int(demographic.loc[demographic['subject_id'] == subject_id, 'anchor_age'].values[0])\n",
    "        race = int(demographic.loc[demographic['subject_id'] == subject_id, 'race'].values[0])\n",
    "    except:\n",
    "        miss += 0\n",
    "        gender = np.nan\n",
    "        age = np.nan\n",
    "        race = np.nan\n",
    "    copd_array.append(df_ed.loc[df_ed['ed_subject'] == subject_id, 'COPD'].values[0])\n",
    "    vs_array.append(df_ed.loc[df_ed['ed_subject'] == subject_id, 'ventilation_status'].values[0])\n",
    "    gender_array.append(gender)\n",
    "    age_array.append(age)\n",
    "    races_array.append(race)\n",
    "\n",
    "unique_df_ed = pd.DataFrame({'subject_id':unique_subject_id_ed, 'gender': gender_array, \n",
    "                              'age':age_array, 'race':races_array, \n",
    "                              'COPD':copd_array, 'ventilation_status': vs_array\n",
    "                             })\n",
    "print(miss)\n",
    "unique_df_ed"
   ]
  },
  {
   "cell_type": "code",
   "execution_count": null,
   "id": "strange-packet",
   "metadata": {},
   "outputs": [],
   "source": [
    "unique_df_icu = unique_df_icu.replace({'ventilation_status': {np.nan: 0, 'Oxygen': 1, 'HighFlow': 2, 'Oxygen,HighFlow': 3}})\n",
    "unique_df_icu"
   ]
  },
  {
   "cell_type": "code",
   "execution_count": null,
   "id": "coordinate-canada",
   "metadata": {},
   "outputs": [],
   "source": [
    "unique_df_ed = unique_df_ed.replace({'ventilation_status': {np.nan: 0, 'Oxygen': 1, 'HighFlow': 2,'Oxygen,HighFlow': 3}})\n",
    "unique_df_ed"
   ]
  },
  {
   "cell_type": "code",
   "execution_count": null,
   "id": "extreme-providence",
   "metadata": {},
   "outputs": [],
   "source": [
    "df_ed = pd.DataFrame()\n",
    "df_icu = pd.DataFrame()\n",
    "miss = 0\n",
    "filename = ['TFrecords/mimic-tf-record{i}.tfrecords'.format(i=i) for i in range(24)]\n",
    "raw_dataset = tf.data.TFRecordDataset(filename)\n",
    "\n",
    "for raw_record in raw_dataset:\n",
    "    #loads data  from the trecord all info \n",
    "    example = tf.train.Example() # subject id (contains several chest Xrays) \n",
    "    example.ParseFromString(raw_record.numpy()) #reads the example \n",
    "    \n",
    "\n",
    "    subject_id = example.features.feature['subject_id'].int64_list.value[0] # change subject_id to type int\n",
    "    try:\n",
    "        df_ed = df_ed.append(unique_df_ed.loc[unique_df_ed['subject_id'] == subject_id], ignore_index=True)\n",
    "    except:\n",
    "        miss+=1\n",
    "\n",
    "    try:\n",
    "        df_icu = df_icu.append(unique_df_icu.loc[unique_df_icu['subject_id'] == subject_id], ignore_index=True)\n",
    "    except:\n",
    "        miss+=1\n"
   ]
  },
  {
   "cell_type": "code",
   "execution_count": null,
   "id": "divided-viewer",
   "metadata": {},
   "outputs": [],
   "source": [
    "df_icu = df_icu.drop_duplicates()\n",
    "df_icu"
   ]
  },
  {
   "cell_type": "code",
   "execution_count": null,
   "id": "tough-auction",
   "metadata": {},
   "outputs": [],
   "source": [
    "df_ed = df_ed.drop_duplicates()\n",
    "df_ed"
   ]
  },
  {
   "cell_type": "code",
   "execution_count": null,
   "id": "adjustable-bangkok",
   "metadata": {},
   "outputs": [],
   "source": [
    "columns = ['gender', 'age', 'race', 'COPD', 'ventilation_status']\n",
    "categorical = columns\n",
    "groupby = 'COPD'\n",
    "mytable = TableOne(df_icu, columns=columns, categorical=categorical,\n",
    "                   groupby=groupby, pval=True)"
   ]
  },
  {
   "cell_type": "code",
   "execution_count": null,
   "id": "ultimate-annotation",
   "metadata": {},
   "outputs": [],
   "source": [
    "mytable"
   ]
  },
  {
   "cell_type": "code",
   "execution_count": null,
   "id": "informative-heater",
   "metadata": {},
   "outputs": [],
   "source": [
    "columns = ['gender', 'age', 'race', 'COPD', 'ventilation_status']\n",
    "categorical = columns\n",
    "groupby = 'COPD'\n",
    "mytable = TableOne(df_ed, columns=columns, categorical=categorical,\n",
    "                   groupby=groupby, pval=True)\n",
    "mytable\n",
    "# 0: Female, 1: Male\n",
    "# 0: White, 1: Black, 2: Latino, 3: others, 4: Asian\n",
    "# 0: -20, 1: 20-40, 2:40-60, 3: 60-80, 4: 80-"
   ]
  },
  {
   "cell_type": "code",
   "execution_count": null,
   "id": "palestinian-israel",
   "metadata": {},
   "outputs": [],
   "source": [
    "a = np.array(df_icu['subject_id'])\n",
    "b = np.array(df_ed['subject_id'])\n",
    "concat = np.unique(np.concatenate((a, b), axis=0))"
   ]
  },
  {
   "cell_type": "code",
   "execution_count": null,
   "id": "living-guinea",
   "metadata": {},
   "outputs": [],
   "source": [
    "train, test = train_test_split(concat, test_size=0.2, random_state=42)\n",
    "train, val = train_test_split(train, test_size=0.2, random_state=42)"
   ]
  },
  {
   "cell_type": "code",
   "execution_count": null,
   "id": "personalized-thing",
   "metadata": {},
   "outputs": [],
   "source": [
    "np.savetxt('Data/COPD_val_list.csv', val, delimiter=\",\")\n",
    "np.savetxt('Data/COPD_test_list.csv', test, delimiter=\",\")\n",
    "np.savetxt('Data/COPD_train_list.csv', train, delimiter=\",\")"
   ]
  }
 ],
 "metadata": {
  "kernelspec": {
   "display_name": "Python 3",
   "language": "python",
   "name": "python3"
  },
  "language_info": {
   "codemirror_mode": {
    "name": "ipython",
    "version": 3
   },
   "file_extension": ".py",
   "mimetype": "text/x-python",
   "name": "python",
   "nbconvert_exporter": "python",
   "pygments_lexer": "ipython3",
   "version": "3.7.10"
  }
 },
 "nbformat": 4,
 "nbformat_minor": 5
}
