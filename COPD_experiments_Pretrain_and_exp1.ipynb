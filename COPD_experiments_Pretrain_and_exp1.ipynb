{
 "cells": [
  {
   "cell_type": "code",
   "execution_count": null,
   "id": "alone-introduction",
   "metadata": {
    "scrolled": false
   },
   "outputs": [],
   "source": [
    "!nvidia-smi"
   ]
  },
  {
   "cell_type": "code",
   "execution_count": null,
   "id": "novel-manhattan",
   "metadata": {},
   "outputs": [],
   "source": [
    "import tensorflow as tf\n",
    "import numpy as np\n",
    "import matplotlib.pyplot as plt\n",
    "import skimage.transform as st\n",
    "import os\n",
    "import gc\n",
    "import warnings\n",
    "from sklearn.metrics import classification_report, average_precision_score\n",
    "from Parse_TFrecords import *\n",
    "from define_model import *\n",
    "from load_data import *\n",
    "from utilities import *\n",
    " \n",
    "print(tf.__version__)\n",
    "\n",
    "# warnings.filterwarnings(\"ignore\")\n",
    "# os.environ['TF_CPP_MIN_LOG_LEVEL'] = '2'\n",
    "\n",
    "# gpus = tf.config.list_physical_devices(device_type='GPU')\n",
    "# tf.config.set_visible_devices(devices=gpus[0], device_type='GPU')"
   ]
  },
  {
   "cell_type": "markdown",
   "id": "victorian-night",
   "metadata": {},
   "source": [
    "# Pretrain model"
   ]
  },
  {
   "cell_type": "code",
   "execution_count": null,
   "id": "beneficial-boston",
   "metadata": {},
   "outputs": [],
   "source": [
    "files = '../Data/Chexpert_cxr.tfrecords'\n",
    "\n",
    "BATCH_SIZE = 32\n",
    "\n",
    "train_dataset = (tf.data.TFRecordDataset(\n",
    "    files, compression_type=None, buffer_size=BATCH_SIZE*10, num_parallel_reads=32)\n",
    ".map(parse_TFrecord_pretrain)\n",
    ".batch(BATCH_SIZE, drop_remainder=True)\n",
    ".shuffle(256))"
   ]
  },
  {
   "cell_type": "code",
   "execution_count": null,
   "id": "studied-engine",
   "metadata": {},
   "outputs": [],
   "source": [
    "checkpoint_filepath = 'checkpoints/AUC/checkpoint_pretrain_Dnet121'\n",
    "model_checkpoint_callback = tf.keras.callbacks.ModelCheckpoint(\n",
    "    filepath=checkpoint_filepath,\n",
    "    save_best_only=True,\n",
    "    save_weights_only=True,\n",
    "    monitor='auc',\n",
    "    mode='max')\n",
    "\n",
    "callback = [tf.keras.callbacks.LearningRateScheduler(scheduler),\n",
    "            tf.keras.callbacks.EarlyStopping(mode='max', patience=3, monitor='auc'),\n",
    "            model_checkpoint_callback]\n",
    "\n",
    "metric = tf.keras.metrics.AUC()\n",
    "\n",
    "model = define_model_pretrain(archi='Dnet121')\n",
    "\n",
    "model.summary()\n",
    "\n",
    "model.compile(loss=tf.keras.losses.BinaryCrossentropy(from_logits=True),\n",
    "                 optimizer=tf.keras.optimizers.Adam(learning_rate=1e-3), metrics=metric)\n",
    "\n",
    "model.fit(train_dataset, epochs=5, shuffle=True, callbacks=callback)"
   ]
  },
  {
   "cell_type": "markdown",
   "id": "relevant-plumbing",
   "metadata": {},
   "source": [
    "# Transfer learning"
   ]
  },
  {
   "cell_type": "code",
   "execution_count": null,
   "id": "commercial-storage",
   "metadata": {},
   "outputs": [],
   "source": [
    "pos = 27297\n",
    "neg = 119133\n",
    "\n",
    "total = pos+neg\n",
    "\n",
    "weight_for_0 = (1 / neg) * (total / 2.0)\n",
    "weight_for_1 = (1 / pos) * (total / 2.0)\n",
    "\n",
    "class_weight = {0: weight_for_0, 1: weight_for_1}\n",
    "\n",
    "print('Weight for class 0: {:.2f}'.format(weight_for_0))\n",
    "print('Weight for class 1: {:.2f}'.format(weight_for_1))"
   ]
  },
  {
   "cell_type": "code",
   "execution_count": null,
   "id": "blank-control",
   "metadata": {},
   "outputs": [],
   "source": [
    "BATCH_SIZE = 32\n",
    "\n",
    "record_file_train = 'copd_train_new.tfrecords'\n",
    "train_dataset = (tf.data.TFRecordDataset(\n",
    "    record_file_train, buffer_size=BATCH_SIZE*10, compression_type=None, num_parallel_reads=32)\n",
    ".map(parse_TFrecord_train)\n",
    ".shuffle(total)\n",
    ".batch(BATCH_SIZE))\n",
    "\n",
    "record_file_val = 'copd_val_new.tfrecords'\n",
    "val_dataset = (tf.data.TFRecordDataset(\n",
    "    record_file_val, buffer_size=BATCH_SIZE*10, compression_type=None, num_parallel_reads=32)\n",
    ".map(parse_TFrecord_train)\n",
    ".shuffle(36601)\n",
    ".batch(BATCH_SIZE))\n",
    "\n",
    "record_file_test = 'copd_test_new.tfrecords'\n",
    "test_dataset = (tf.data.TFRecordDataset(\n",
    "    record_file_test, buffer_size=BATCH_SIZE*10, compression_type=None, num_parallel_reads=32)\n",
    ".map(parse_TFrecord_test)\n",
    ".batch(BATCH_SIZE))\n",
    "\n",
    "y_test = get_data_label('test')"
   ]
  },
  {
   "cell_type": "markdown",
   "id": "swiss-convert",
   "metadata": {},
   "source": [
    "## Different loss functions"
   ]
  },
  {
   "cell_type": "code",
   "execution_count": null,
   "id": "announced-density",
   "metadata": {},
   "outputs": [],
   "source": [
    "archi='Dnet121'\n",
    "\n",
    "checkpoint_filepath = 'checkpoints/AUC/checkpoint_KLDiv_Dnet121'\n",
    "monitor_ = 'val_auc'\n",
    "\n",
    "model_checkpoint_callback = tf.keras.callbacks.ModelCheckpoint(\n",
    "    filepath=checkpoint_filepath,\n",
    "    save_best_only=True,\n",
    "    save_weights_only=True,\n",
    "    monitor=monitor_,\n",
    "    mode='max')\n",
    "    \n",
    "callback = [tf.keras.callbacks.LearningRateScheduler(scheduler),\n",
    "            tf.keras.callbacks.EarlyStopping(mode='max', patience=3, monitor=monitor_),\n",
    "            model_checkpoint_callback]\n",
    "\n",
    "model = load_model_from_pretrain(archi)\n",
    "\n",
    "# loss_func = binary_focal_loss\n",
    "# loss_func = tf.keras.losses.CategoricalHinge()\n",
    "loss_func = tf.keras.losses.KLDivergence()\n",
    "# loss = tf.keras.losses.BinaryCrossentropy(from_logits=True)\n",
    "\n",
    "metric = tf.keras.metrics.AUC(name='auc')\n",
    "\n",
    "model.compile(loss=loss_func,\n",
    "                 optimizer=tf.keras.optimizers.Adam(learning_rate=1e-3), metrics=metric)\n",
    "\n",
    "model.fit(train_dataset, epochs=20, shuffle=True, validation_data=val_dataset, callbacks=callback, class_weight=class_weight)\n",
    "\n",
    "y_preds = model.predict(test_dataset)\n",
    "\n",
    "test_CI(y_preds, y_test)\n",
    "    \n",
    "thresh = get_thresh(y_test, y_preds, 'Youden')\n",
    "print('thresh:', thresh)\n",
    "        \n",
    "print(classification_report(y_test, np.where(y_preds >= thresh, 1, 0)))\n",
    "print(average_precision_score(y_test, y_preds, average=None))\n",
    "\n",
    "thresh = get_thresh(y_test, y_preds, 'G-mean')\n",
    "print('thresh:', thresh)\n",
    "        \n",
    "print(classification_report(y_test, np.where(y_preds >= thresh, 1, 0)))\n",
    "print(average_precision_score(y_test, y_preds, average=None))\n",
    "\n",
    "thresh = 0.5\n",
    "print('thresh:', thresh)\n",
    "        \n",
    "print(classification_report(y_test, np.where(y_preds >= thresh, 1, 0)))\n",
    "print(average_precision_score(y_test, y_preds, average=None))\n",
    "\n",
    "gc.collect()"
   ]
  },
  {
   "cell_type": "code",
   "execution_count": null,
   "id": "adopted-surface",
   "metadata": {},
   "outputs": [],
   "source": [
    "checkpoint_filepath = 'checkpoints/AUC/checkpoint_BCE_Dnet121'\n",
    "archi = 'Dnet121'\n",
    "model = define_model(archi)\n",
    "model.load_weights(checkpoint_filepath)\n",
    "\n",
    "y_preds = model.predict(test_dataset)\n",
    "\n",
    "test_CI(y_preds, y_test)\n",
    "\n",
    "print(average_precision_score(y_test, y_preds, average=None))\n",
    "        \n",
    "thresh = get_thresh(y_test, y_preds, 'Youden')\n",
    "print('thresh:', thresh)\n",
    "        \n",
    "print(classification_report(y_test, np.where(y_preds >= thresh, 1, 0)))\n",
    "\n",
    "thresh = get_thresh(y_test, y_preds, 'G-mean')\n",
    "print('thresh:', thresh)\n",
    "        \n",
    "print(classification_report(y_test, np.where(y_preds >= thresh, 1, 0)))\n",
    "\n",
    "thresh = 0.5\n",
    "print('thresh:', thresh)\n",
    "        \n",
    "print(classification_report(y_test, np.where(y_preds >= thresh, 1, 0)))\n",
    "\n",
    "gc.collect()"
   ]
  }
 ],
 "metadata": {
  "kernelspec": {
   "display_name": "Python 3",
   "language": "python",
   "name": "python3"
  },
  "language_info": {
   "codemirror_mode": {
    "name": "ipython",
    "version": 3
   },
   "file_extension": ".py",
   "mimetype": "text/x-python",
   "name": "python",
   "nbconvert_exporter": "python",
   "pygments_lexer": "ipython3",
   "version": "3.7.10"
  }
 },
 "nbformat": 4,
 "nbformat_minor": 5
}
