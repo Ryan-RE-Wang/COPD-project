{
 "cells": [
  {
   "cell_type": "code",
   "execution_count": null,
   "id": "fifteen-portrait",
   "metadata": {
    "scrolled": false
   },
   "outputs": [],
   "source": [
    "!nvidia-smi"
   ]
  },
  {
   "cell_type": "code",
   "execution_count": null,
   "id": "vietnamese-binary",
   "metadata": {},
   "outputs": [],
   "source": [
    "import tensorflow as tf\n",
    "import numpy as np\n",
    "import matplotlib.pyplot as plt\n",
    "import skimage.transform as st\n",
    "import os\n",
    "import gc\n",
    "import warnings\n",
    "from sklearn.metrics import classification_report, average_precision_score\n",
    "from Parse_TFrecords import *\n",
    "from define_model import *\n",
    "from load_data import *\n",
    "from utilities import *\n",
    " \n",
    "print(tf.__version__)\n",
    "\n",
    "warnings.filterwarnings(\"ignore\")\n",
    "os.environ['TF_CPP_MIN_LOG_LEVEL'] = '2'\n",
    "\n",
    "gpus = tf.config.list_physical_devices(device_type='GPU')\n",
    "tf.config.set_visible_devices(devices=gpus[0], device_type='GPU')"
   ]
  },
  {
   "cell_type": "markdown",
   "id": "likely-spare",
   "metadata": {},
   "source": [
    "## Model Ensembling "
   ]
  },
  {
   "cell_type": "code",
   "execution_count": null,
   "id": "unable-label",
   "metadata": {},
   "outputs": [],
   "source": [
    "pos = 27297\n",
    "neg = 119133\n",
    "\n",
    "total = pos+neg\n",
    "\n",
    "weight_for_0 = (1 / neg) * (total / 2.0)\n",
    "weight_for_1 = (1 / pos) * (total / 2.0)\n",
    "\n",
    "class_weight = {0: weight_for_0, 1: weight_for_1}\n",
    "\n",
    "print('Weight for class 0: {:.2f}'.format(weight_for_0))\n",
    "print('Weight for class 1: {:.2f}'.format(weight_for_1))"
   ]
  },
  {
   "cell_type": "code",
   "execution_count": null,
   "id": "optical-glass",
   "metadata": {},
   "outputs": [],
   "source": [
    "BATCH_SIZE = 32\n",
    "\n",
    "record_file_train = 'copd_train_new.tfrecords'\n",
    "train_dataset = (tf.data.TFRecordDataset(\n",
    "    record_file_train, buffer_size=BATCH_SIZE*10, compression_type=None, num_parallel_reads=32)\n",
    ".map(parse_TFrecord_train)\n",
    ".shuffle(total)\n",
    ".batch(BATCH_SIZE))\n",
    "\n",
    "record_file_val = 'copd_val_new.tfrecords'\n",
    "val_dataset = (tf.data.TFRecordDataset(\n",
    "    record_file_val, buffer_size=BATCH_SIZE*10, compression_type=None, num_parallel_reads=32)\n",
    ".map(parse_TFrecord_train)\n",
    ".shuffle(36601)\n",
    ".batch(BATCH_SIZE))\n",
    "\n",
    "record_file_test = 'copd_test_new.tfrecords'\n",
    "test_dataset = (tf.data.TFRecordDataset(\n",
    "    record_file_test, buffer_size=BATCH_SIZE*10, compression_type=None, num_parallel_reads=32)\n",
    ".map(parse_TFrecord_test)\n",
    ".batch(BATCH_SIZE))\n",
    "\n",
    "y_test = get_data_label('test')"
   ]
  },
  {
   "cell_type": "markdown",
   "id": "intellectual-package",
   "metadata": {},
   "source": [
    "## Train base model"
   ]
  },
  {
   "cell_type": "code",
   "execution_count": null,
   "id": "local-purpose",
   "metadata": {},
   "outputs": [],
   "source": [
    "archi = 'Dnet121'\n",
    "\n",
    "checkpoint_filepath = 'checkpoints/Recall/checkpoint_Dnet121'\n",
    "monitor_ = 'val_recall'\n",
    "model_checkpoint_callback = tf.keras.callbacks.ModelCheckpoint(\n",
    "    filepath=checkpoint_filepath,\n",
    "    save_best_only=True,\n",
    "    save_weights_only=True,\n",
    "    monitor=monitor_,\n",
    "    mode='max')\n",
    "    \n",
    "callback = [tf.keras.callbacks.LearningRateScheduler(scheduler),\n",
    "            tf.keras.callbacks.EarlyStopping(mode='max', patience=3, monitor=monitor_),\n",
    "            model_checkpoint_callback]\n",
    "\n",
    "model = load_model_from_pretrain(archi)\n",
    "\n",
    "# metric = tf.keras.metrics.PrecisionAtRecall(recall=0.5, name='precision_at_recall')\n",
    "metric = tf.keras.metrics.Recall(name='recall')\n",
    "# metric = tf.keras.metrics.Precision(name='precision')\n",
    "\n",
    "model.compile(loss=tf.keras.losses.BinaryCrossentropy(from_logits=True),\n",
    "                 optimizer=tf.keras.optimizers.Adam(learning_rate=1e-3), metrics=metric)\n",
    "\n",
    "model.fit(train_dataset, epochs=20, shuffle=True, validation_data=val_dataset, callbacks=callback, class_weight=class_weight)\n",
    "\n",
    "y_preds = model.predict(test_dataset)\n",
    "\n",
    "test_CI(y_preds, y_test)\n",
    "    \n",
    "thresh = get_thresh(y_test, y_preds, 'Youden')\n",
    "print('thresh:', thresh)\n",
    "        \n",
    "print(classification_report(y_test, np.where(y_preds >= thresh, 1, 0)))\n",
    "print(average_precision_score(y_test, y_preds, average=None))\n",
    "\n",
    "thresh = get_thresh(y_test, y_preds, 'G-mean')\n",
    "print('thresh:', thresh)\n",
    "        \n",
    "print(classification_report(y_test, np.where(y_preds >= thresh, 1, 0)))\n",
    "print(average_precision_score(y_test, y_preds, average=None))\n",
    "\n",
    "thresh = 0.5\n",
    "print('thresh:', thresh)\n",
    "        \n",
    "print(classification_report(y_test, np.where(y_preds >= thresh, 1, 0)))\n",
    "print(average_precision_score(y_test, y_preds, average=None))\n",
    "\n",
    "gc.collect()"
   ]
  },
  {
   "cell_type": "markdown",
   "id": "trained-possession",
   "metadata": {},
   "source": [
    "## Prediction-based ensemble"
   ]
  },
  {
   "cell_type": "code",
   "execution_count": null,
   "id": "complimentary-creation",
   "metadata": {},
   "outputs": [],
   "source": [
    "BATCH_SIZE = 32\n",
    "\n",
    "record_file_test = 'copd_test_new.tfrecords'\n",
    "test_dataset = (tf.data.TFRecordDataset(\n",
    "    record_file_test, buffer_size=BATCH_SIZE*10, compression_type=None, num_parallel_reads=32)\n",
    ".map(parse_TFrecord_test)\n",
    ".batch(BATCH_SIZE))\n",
    "\n",
    "y_test = get_data_label('test')"
   ]
  },
  {
   "cell_type": "code",
   "execution_count": null,
   "id": "expanded-greene",
   "metadata": {},
   "outputs": [],
   "source": [
    "checkpoint_filepath = 'checkpoints/PrecisionAtRecall/checkpoint_IV3'\n",
    "archi = 'IV3'\n",
    "model1 = define_model(archi)\n",
    "model1.load_weights(checkpoint_filepath)\n",
    "\n",
    "checkpoint_filepath = 'checkpoints/PrecisionAtRecall/checkpoint_Dnet121'\n",
    "archi = 'Dnet121'\n",
    "model2 = define_model(archi)\n",
    "model2.load_weights(checkpoint_filepath)\n",
    "\n",
    "y_preds_1 = model1.predict(test_dataset)\n",
    "y_preds_2 = model2.predict(test_dataset)"
   ]
  },
  {
   "cell_type": "code",
   "execution_count": null,
   "id": "thermal-salon",
   "metadata": {},
   "outputs": [],
   "source": [
    "y_preds_vote = (y_preds_1*0.35 + y_preds_2*0.65)\n",
    "    \n",
    "y_preds_vote = np.array(y_preds_vote)\n",
    "    \n",
    "test_CI(y_preds_vote, y_test)\n",
    "\n",
    "print(average_precision_score(y_test, y_preds_vote, average=None))\n",
    "    \n",
    "thresh = get_thresh(y_test, y_preds_vote, 'Youden')\n",
    "print('thresh:', thresh)\n",
    "        \n",
    "print(classification_report(y_test, np.where(y_preds_vote >= thresh, 1, 0)))\n",
    "\n",
    "thresh = get_thresh(y_test, y_preds_vote, 'G-mean')\n",
    "print('thresh:', thresh)\n",
    "        \n",
    "print(classification_report(y_test, np.where(y_preds_vote >= thresh, 1, 0)))\n",
    "\n",
    "thresh = 0.5\n",
    "print('thresh:', thresh)\n",
    "        \n",
    "print(classification_report(y_test, np.where(y_preds_vote >= thresh, 1, 0)))\n",
    "\n",
    "gc.collect()"
   ]
  },
  {
   "cell_type": "markdown",
   "id": "chief-uniform",
   "metadata": {},
   "source": [
    "## Model-based ensemble"
   ]
  },
  {
   "cell_type": "code",
   "execution_count": null,
   "id": "disturbed-publisher",
   "metadata": {},
   "outputs": [],
   "source": [
    "checkpoint_filepath = 'checkpoints/AUC/checkpoint_BCE_IV3'\n",
    "archi = 'IV3'\n",
    "model1 = load_model_from_pretrain(archi)\n",
    "model1.load_weights(checkpoint_filepath)\n",
    "\n",
    "checkpoint_filepath = 'checkpoints/AUC/checkpoint_BCE_Dnet121'\n",
    "archi = 'Dnet121'\n",
    "model2 = load_model_from_pretrain(archi)\n",
    "model2.load_weights(checkpoint_filepath)\n",
    "\n",
    "model1 = tf.keras.Model(inputs=model1.input, outputs=model1.get_layer(model1.layers[-2].name).output)\n",
    "model2 = tf.keras.Model(inputs=model2.input, outputs=model2.get_layer(model2.layers[-2].name).output)\n",
    "\n",
    "features_1 = model1.predict(train_dataset)\n",
    "features_2 = model2.predict(train_dataset)\n",
    "\n",
    "features_val_1 = model1.predict(val_dataset)\n",
    "features_val_2 = model2.predict(val_dataset)"
   ]
  },
  {
   "cell_type": "code",
   "execution_count": null,
   "id": "approximate-stock",
   "metadata": {},
   "outputs": [],
   "source": [
    "checkpoint_filepath = 'checkpoints/AUC/checkpoint_ensemble_mlp'\n",
    "monitor_ = 'val_auc'\n",
    "model_checkpoint_callback = tf.keras.callbacks.ModelCheckpoint(\n",
    "    filepath=checkpoint_filepath,\n",
    "    save_best_only=True,\n",
    "    save_weights_only=True,\n",
    "    monitor=monitor_,\n",
    "    mode='max')\n",
    "    \n",
    "callback = [tf.keras.callbacks.LearningRateScheduler(scheduler),\n",
    "            tf.keras.callbacks.EarlyStopping(mode='max', patience=3, monitor=monitor_),\n",
    "            model_checkpoint_callback]\n",
    "\n",
    "ensemble_mlp = get_ensemble_mlp()\n",
    "\n",
    "metric = tf.keras.metrics.AUC(name='auc')\n",
    "\n",
    "ensemble_mlp.compile(loss=tf.keras.losses.BinaryCrossentropy(from_logits=True),\n",
    "                 optimizer=tf.keras.optimizers.Adam(learning_rate=1e-3), metrics=metric)\n",
    "\n",
    "ensemble_mlp.fit([features_IV3, features_D121], y_train, epochs=20, shuffle=True, validation_data=([features_val_IV3, features_val_D121],  y_val), callbacks=callback, class_weight=class_weight)"
   ]
  },
  {
   "cell_type": "code",
   "execution_count": null,
   "id": "crazy-entity",
   "metadata": {},
   "outputs": [],
   "source": [
    "X_test_IV3 = InceptionV3.predict(test_dataset)\n",
    "X_test_D121 = densenet121.predict(test_dataset)\n",
    "\n",
    "y_preds = ensemble_mlp.predict([X_test_IV3, X_test_D121])\n",
    "\n",
    "test_CI(y_preds, y_test)\n",
    "\n",
    "thresh = get_thresh(y_test, y_preds)\n",
    "\n",
    "print(classification_report(y_test, np.where(y_preds >= thresh, 1, 0)))\n",
    "print(average_precision_score(y_test, y_preds, average=None))\n",
    "\n",
    "gc.collect()"
   ]
  }
 ],
 "metadata": {
  "kernelspec": {
   "display_name": "Python 3",
   "language": "python",
   "name": "python3"
  },
  "language_info": {
   "codemirror_mode": {
    "name": "ipython",
    "version": 3
   },
   "file_extension": ".py",
   "mimetype": "text/x-python",
   "name": "python",
   "nbconvert_exporter": "python",
   "pygments_lexer": "ipython3",
   "version": "3.7.10"
  }
 },
 "nbformat": 4,
 "nbformat_minor": 5
}
