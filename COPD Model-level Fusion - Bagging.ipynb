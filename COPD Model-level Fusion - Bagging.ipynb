{
 "cells": [
  {
   "cell_type": "code",
   "execution_count": null,
   "metadata": {
    "scrolled": false
   },
   "outputs": [],
   "source": [
    "!nvidia-smi"
   ]
  },
  {
   "cell_type": "code",
   "execution_count": null,
   "metadata": {},
   "outputs": [],
   "source": [
    "import os\n",
    "os.environ['TF_CPP_MIN_LOG_LEVEL'] = '3' \n",
    "\n",
    "import warnings\n",
    "warnings.filterwarnings(\"ignore\")\n",
    "\n",
    "from Parse_TFrecords import *\n",
    "from define_model import *\n",
    "from load_label import *\n",
    "from utilities import *\n",
    "import gc\n",
    "import tensorflow as tf\n",
    "import json\n",
    "import matplotlib.image as mpimg\n",
    "tf.compat.v1.logging.set_verbosity(tf.compat.v1.logging.ERROR)\n",
    "\n",
    "import numpy as np\n",
    "from sklearn.metrics import classification_report, average_precision_score\n",
    "\n",
    "gpus = tf.config.experimental.list_physical_devices('GPU')\n",
    "for gpu in gpus:\n",
    "    tf.config.experimental.set_memory_growth(gpu, True)\n",
    "    \n",
    "print(tf.__version__)"
   ]
  },
  {
   "cell_type": "markdown",
   "metadata": {},
   "source": [
    "## Model Fusion - Weighted Bagging"
   ]
  },
  {
   "cell_type": "code",
   "execution_count": null,
   "metadata": {},
   "outputs": [],
   "source": [
    "archis = ['DenseNet121', 'ResNet50V2', 'Xception', 'MobileNetV2']\n",
    "\n",
    "data = 'mimic'\n",
    "split = 'test'\n",
    "\n",
    "\n",
    "df = pd.DataFrame()\n",
    "\n",
    "for i in archis:\n",
    "    outfile = 'preds/{d}/{j}_preds/{i}_preds.npy'.format(d=data,j=split, i=i)\n",
    "\n",
    "    df[i] = np.reshape(np.load(outfile), (-1)).tolist()"
   ]
  },
  {
   "cell_type": "code",
   "execution_count": null,
   "metadata": {},
   "outputs": [],
   "source": [
    "import plotly.figure_factory as ff\n",
    "from scipy.cluster.hierarchy import dendrogram, linkage\n",
    "from functools import partial\n",
    "from scipy.spatial.distance import pdist\n",
    "\n",
    "cosine_func = partial(pdist, metric='cosine')\n",
    "np.random.seed(1)\n",
    "\n",
    "X = np.random.rand(15, 12) # 15 samples, with 12 dimensions each\n",
    "fig = ff.create_dendrogram(df.T, labels=archis, distfun=cosine_func, linkagefun=lambda x: linkage(x, 'average'))\n",
    "fig.update_layout(width=800, height=500)\n",
    "fig['layout'].update({'width':800, 'height':600, 'title': 'Dendrogram', 'title_x': 0.5, 'title_y':0.88, \n",
    "                    'xaxis': {'title': 'Base Models'}, 'yaxis': {'title': 'Cosine Distance'}})\n",
    "fig.show()"
   ]
  },
  {
   "cell_type": "code",
   "execution_count": null,
   "metadata": {},
   "outputs": [],
   "source": [
    "import scipy.cluster.hierarchy as shc\n",
    "plt.figure(figsize=(9, 6))  \n",
    "plt.title(\"Dendrogram\", fontdict={'fontsize': 15})\n",
    "\n",
    "dend = shc.dendrogram(shc.linkage(df.T, method='average', metric='cosine'), labels=archis, get_leaves=True, leaf_font_size=15)\n",
    "\n",
    "j = json.dumps(dend)\n",
    "\n",
    "f = open(\"bagging_dend_emory/average_dend.json\",\"w\")\n",
    "\n",
    "# write json object to file\n",
    "f.write(j)\n",
    "\n",
    "# close file\n",
    "f.close()"
   ]
  },
  {
   "cell_type": "code",
   "execution_count": null,
   "metadata": {},
   "outputs": [],
   "source": [
    "archis = ['DenseNet121', 'ResNet50V2', 'Xception', 'MobileNetV2']\n",
    "\n",
    "data = 'merged'\n",
    "split = 'test'\n",
    "\n",
    "\n",
    "df = pd.DataFrame()\n",
    "\n",
    "for i in archis:\n",
    "    outfile = 'preds/{d}/{j}_preds/emory_{i}_preds.npy'.format(d=data,j=split, i=i)\n",
    "\n",
    "    df[i] = np.reshape(np.load(outfile), (-1)).tolist()\n",
    "\n",
    "y_label, y_demo = get_data_label('emory', split, True)"
   ]
  },
  {
   "cell_type": "code",
   "execution_count": null,
   "metadata": {},
   "outputs": [],
   "source": [
    "with open(\"bagging_dend_emory/average_dend.json\", \"r\") as read_content:\n",
    "    dend = json.load(read_content)\n",
    "    \n",
    "temp = pd.DataFrame()\n",
    "for i in range(len(archis)-1):\n",
    "    a = dend['icoord'][i][1]\n",
    "    b = dend['icoord'][i][2]\n",
    "    if (a-5)%10 == 0:\n",
    "        print('a', dend['ivl'][int((a-5)/10)])\n",
    "        val_a = df[dend['ivl'][int((a-5)/10)]]\n",
    "    else:\n",
    "        print('a', str(a))\n",
    "        val_a = temp[str(a)]\n",
    "        \n",
    "    if (b-5)%10 == 0:\n",
    "        print('b', dend['ivl'][int((b-5)/10)])\n",
    "        val_b = df[dend['ivl'][int((b-5)/10)]]\n",
    "    else:\n",
    "        print('b', str(b))\n",
    "        val_b = temp[str(b)]\n",
    "    \n",
    "    temp[str((a+b)/2)] = (val_a + val_b)/2\n",
    "    \n",
    "    print('-------------------')"
   ]
  },
  {
   "cell_type": "code",
   "execution_count": null,
   "metadata": {},
   "outputs": [],
   "source": [
    "# emory\n",
    "thresh = get_thresh(y_label, temp[str((a+b)/2)], 'Youden')\n",
    "\n",
    "test_CI(temp[str((a+b)/2)].values, y_label, thresh)\n",
    "\n",
    "gc.collect()"
   ]
  },
  {
   "cell_type": "code",
   "execution_count": null,
   "metadata": {},
   "outputs": [],
   "source": [
    "# mimic\n",
    "thresh = get_thresh(y_label, temp[str((a+b)/2)], 'Youden')\n",
    "\n",
    "test_CI(temp[str((a+b)/2)].values, y_label, thresh)\n",
    "\n",
    "gc.collect()"
   ]
  },
  {
   "cell_type": "markdown",
   "metadata": {},
   "source": [
    "## Model Fusion - Unweighted Bagging"
   ]
  },
  {
   "cell_type": "code",
   "execution_count": null,
   "metadata": {},
   "outputs": [],
   "source": [
    "archis = ['DenseNet121', 'ResNet50V2', 'Xception', 'MobileNetV2']\n",
    "\n",
    "data = 'emory'\n",
    "split = 'test'\n",
    "\n",
    "\n",
    "df = pd.DataFrame()\n",
    "\n",
    "for i in archis:\n",
    "    outfile = 'preds/{d}/{j}_preds/{i}_preds.npy'.format(d=data,j=split, i=i)\n",
    "\n",
    "    df[i] = np.reshape(np.load(outfile), (-1)).tolist()\n",
    "\n",
    "y_label, y_demo = get_data_label(data, split, True)\n",
    "\n",
    "df = df.mean(axis=1)"
   ]
  },
  {
   "cell_type": "code",
   "execution_count": null,
   "metadata": {},
   "outputs": [],
   "source": [
    "thresh = get_thresh(y_label, df, 'Youden')\n",
    "\n",
    "test_CI(df.values, y_label, thresh)\n",
    "\n",
    "gc.collect()"
   ]
  },
  {
   "cell_type": "markdown",
   "metadata": {},
   "source": [
    "## Model Fusion - MIMIC/Emory Model Bagging"
   ]
  },
  {
   "cell_type": "code",
   "execution_count": null,
   "metadata": {},
   "outputs": [],
   "source": [
    "archis = ['DenseNet121', 'DenseNet201', 'ResNet50V2', 'ResNet152V2', 'Xception', 'InceptionV3', 'InceptionResNetV2', 'MobileNetV2']\n",
    "split = 'test'\n",
    "\n",
    "df1 = pd.DataFrame()\n",
    "\n",
    "for i in archis:\n",
    "    outfile = 'preds/mimic/test_preds/merged_{i}_preds.npy'.format(i=i)\n",
    "\n",
    "    df1[i] = np.reshape(np.load(outfile), (-1)).tolist()\n",
    "    \n",
    "df2 = pd.DataFrame()\n",
    "\n",
    "for i in archis:\n",
    "    outfile = 'preds/emory/test_preds/merged_{i}_preds.npy'.format(i=i)\n",
    "\n",
    "    df2[i] = np.reshape(np.load(outfile), (-1)).tolist()\n",
    "    \n",
    "df = pd.concat([df1, df2])\n",
    "df = df.mean(axis=1)\n",
    "\n",
    "y_label_mimic, y_demo_mimic = get_data_label('mimic', split, True)\n",
    "y_label_emory, y_demo_emory = get_data_label('emory', split, True)\n",
    "\n",
    "y_label = np.concatenate([y_label_mimic, y_label_emory], axis=0)\n",
    "y_demo = np.concatenate([y_demo_mimic, y_demo_emory], axis=0)"
   ]
  },
  {
   "cell_type": "code",
   "execution_count": null,
   "metadata": {},
   "outputs": [],
   "source": [
    "thresh = get_thresh(y_label, df, 'Youden')\n",
    "\n",
    "test_CI(df.values, y_label, thresh)\n",
    "\n",
    "gc.collect()"
   ]
  },
  {
   "cell_type": "markdown",
   "metadata": {},
   "source": [
    "## Fairness Analysis"
   ]
  },
  {
   "cell_type": "code",
   "execution_count": null,
   "metadata": {},
   "outputs": [],
   "source": [
    "race_list = ['White', 'Black', 'Latino', 'Others', 'Asian']\n",
    "\n",
    "for race_num, race in enumerate(race_list):\n",
    "    print(race)\n",
    "    \n",
    "    idx = []\n",
    "    for i, l in enumerate(y_demo):\n",
    "        if (l['Race']==race_num):\n",
    "            idx.append(i)\n",
    "            \n",
    "    temp_df = df.iloc[idx].values\n",
    "    temp_label = y_label[idx]\n",
    "    \n",
    "    thresh = get_thresh(temp_label, temp_df, 'Youden')\n",
    "\n",
    "    test_CI(temp_df, temp_label, thresh)\n",
    "\n",
    "    gc.collect()"
   ]
  },
  {
   "cell_type": "code",
   "execution_count": null,
   "metadata": {},
   "outputs": [],
   "source": [
    "gender_list = ['Female', 'Male']\n",
    "\n",
    "for gender_num, gender in enumerate(gender_list):\n",
    "    print(gender)\n",
    "    \n",
    "    idx = []\n",
    "    for i, l in enumerate(y_demo):\n",
    "        if (l['Gender']==gender_num):\n",
    "            idx.append(i)\n",
    "\n",
    "    temp_df = df.iloc[idx].values\n",
    "    temp_label = y_label[idx]\n",
    "    \n",
    "    thresh = get_thresh(temp_label, temp_df, 'Youden')\n",
    "\n",
    "    test_CI(temp_df, temp_label, thresh)\n",
    "\n",
    "    gc.collect()"
   ]
  },
  {
   "cell_type": "code",
   "execution_count": null,
   "metadata": {},
   "outputs": [],
   "source": [
    "age_list = ['0-40', '40-60', '60-80', '80-']\n",
    "\n",
    "for age_num, age in enumerate(age_list):\n",
    "    print(age)\n",
    "    \n",
    "    idx = []\n",
    "    for i, l in enumerate(y_demo):\n",
    "        if (l['Age']==age_num):\n",
    "            idx.append(i)\n",
    "\n",
    "    temp_df = df.iloc[idx].values\n",
    "    temp_label = y_label[idx]\n",
    "    \n",
    "    thresh = get_thresh(temp_label, temp_df, 'Youden')\n",
    "\n",
    "    test_CI(temp_df, temp_label, thresh)\n",
    "\n",
    "    gc.collect()"
   ]
  }
 ],
 "metadata": {
  "kernelspec": {
   "display_name": "Python 3",
   "language": "python",
   "name": "python3"
  },
  "language_info": {
   "codemirror_mode": {
    "name": "ipython",
    "version": 3
   },
   "file_extension": ".py",
   "mimetype": "text/x-python",
   "name": "python",
   "nbconvert_exporter": "python",
   "pygments_lexer": "ipython3",
   "version": "3.7.3"
  }
 },
 "nbformat": 4,
 "nbformat_minor": 5
}
