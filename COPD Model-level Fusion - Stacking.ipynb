{
 "cells": [
  {
   "cell_type": "code",
   "execution_count": 1,
   "metadata": {
    "scrolled": false
   },
   "outputs": [
    {
     "name": "stdout",
     "output_type": "stream",
     "text": [
      "Mon Aug 22 14:06:32 2022       \n",
      "+-----------------------------------------------------------------------------+\n",
      "| NVIDIA-SMI 510.60.02    Driver Version: 510.60.02    CUDA Version: 11.6     |\n",
      "|-------------------------------+----------------------+----------------------+\n",
      "| GPU  Name        Persistence-M| Bus-Id        Disp.A | Volatile Uncorr. ECC |\n",
      "| Fan  Temp  Perf  Pwr:Usage/Cap|         Memory-Usage | GPU-Util  Compute M. |\n",
      "|                               |                      |               MIG M. |\n",
      "|===============================+======================+======================|\n",
      "|   0  Quadro RTX 6000     On   | 00000000:1A:00.0 Off |                  Off |\n",
      "| 33%   26C    P8    31W / 260W |  19010MiB / 24576MiB |      0%      Default |\n",
      "|                               |                      |                  N/A |\n",
      "+-------------------------------+----------------------+----------------------+\n",
      "|   1  Quadro RTX 6000     On   | 00000000:1C:00.0 Off |                  Off |\n",
      "| 53%   67C    P2   109W / 260W |   4777MiB / 24576MiB |      0%      Default |\n",
      "|                               |                      |                  N/A |\n",
      "+-------------------------------+----------------------+----------------------+\n",
      "|   2  Quadro RTX 6000     On   | 00000000:1D:00.0 Off |                  Off |\n",
      "| 33%   28C    P8    30W / 260W |      3MiB / 24576MiB |      0%      Default |\n",
      "|                               |                      |                  N/A |\n",
      "+-------------------------------+----------------------+----------------------+\n",
      "|   3  Quadro RTX 6000     On   | 00000000:1E:00.0 Off |                  Off |\n",
      "| 33%   50C    P2   159W / 260W |   4777MiB / 24576MiB |     41%      Default |\n",
      "|                               |                      |                  N/A |\n",
      "+-------------------------------+----------------------+----------------------+\n",
      "|   4  Quadro RTX 6000     On   | 00000000:3D:00.0 Off |                  Off |\n",
      "| 33%   53C    P2   174W / 260W |   4779MiB / 24576MiB |     40%      Default |\n",
      "|                               |                      |                  N/A |\n",
      "+-------------------------------+----------------------+----------------------+\n",
      "|   5  Quadro RTX 6000     On   | 00000000:3F:00.0 Off |                  Off |\n",
      "| 33%   28C    P8    20W / 260W |  15570MiB / 24576MiB |      0%      Default |\n",
      "|                               |                      |                  N/A |\n",
      "+-------------------------------+----------------------+----------------------+\n",
      "|   6  Quadro RTX 6000     On   | 00000000:40:00.0 Off |                  Off |\n",
      "| 33%   28C    P8    19W / 260W |  23136MiB / 24576MiB |      0%      Default |\n",
      "|                               |                      |                  N/A |\n",
      "+-------------------------------+----------------------+----------------------+\n",
      "|   7  Quadro RTX 6000     On   | 00000000:41:00.0 Off |                  Off |\n",
      "| 33%   28C    P8    31W / 260W |  23156MiB / 24576MiB |      0%      Default |\n",
      "|                               |                      |                  N/A |\n",
      "+-------------------------------+----------------------+----------------------+\n",
      "                                                                               \n",
      "+-----------------------------------------------------------------------------+\n",
      "| Processes:                                                                  |\n",
      "|  GPU   GI   CI        PID   Type   Process name                  GPU Memory |\n",
      "|        ID   ID                                                   Usage      |\n",
      "|=============================================================================|\n",
      "|    0   N/A  N/A     36361      C   python                          18975MiB |\n",
      "|    1   N/A  N/A      7233      C   python                           2387MiB |\n",
      "|    1   N/A  N/A     34508      C   python                           2387MiB |\n",
      "|    3   N/A  N/A     20876      C   python                           2387MiB |\n",
      "|    3   N/A  N/A     40398      C   python                           2387MiB |\n",
      "|    4   N/A  N/A     27971      C   python                           2387MiB |\n",
      "|    4   N/A  N/A     59993      C   python                           2387MiB |\n",
      "|    5   N/A  N/A     63412      C   ...conda/envs/gpu/bin/python    15565MiB |\n",
      "|    6   N/A  N/A     63412      C   ...conda/envs/gpu/bin/python    23131MiB |\n",
      "|    7   N/A  N/A     63412      C   ...conda/envs/gpu/bin/python    23151MiB |\n",
      "+-----------------------------------------------------------------------------+\n"
     ]
    }
   ],
   "source": [
    "!nvidia-smi"
   ]
  },
  {
   "cell_type": "code",
   "execution_count": 2,
   "metadata": {},
   "outputs": [
    {
     "name": "stdout",
     "output_type": "stream",
     "text": [
      "2.8.0\n"
     ]
    }
   ],
   "source": [
    "import os\n",
    "os.environ['TF_CPP_MIN_LOG_LEVEL'] = '3' \n",
    "\n",
    "import warnings\n",
    "warnings.filterwarnings(\"ignore\")\n",
    "\n",
    "from Parse_TFrecords import *\n",
    "from define_model import *\n",
    "from load_label import *\n",
    "from utilities import *\n",
    "import gc\n",
    "import tensorflow as tf\n",
    "import joblib\n",
    "\n",
    "tf.compat.v1.logging.set_verbosity(tf.compat.v1.logging.ERROR)\n",
    "\n",
    "import numpy as np\n",
    "\n",
    "gpus = tf.config.experimental.list_physical_devices('GPU')\n",
    "for gpu in gpus:\n",
    "    tf.config.experimental.set_memory_growth(gpu, True)\n",
    "    \n",
    "print(tf.__version__)"
   ]
  },
  {
   "cell_type": "markdown",
   "metadata": {},
   "source": [
    "## Model Ensemble stacking"
   ]
  },
  {
   "cell_type": "code",
   "execution_count": 3,
   "metadata": {},
   "outputs": [],
   "source": [
    "archis = ['DenseNet121', 'ResNet50V2', 'Xception', 'MobileNetV2']\n",
    "\n",
    "data = 'mimic'\n",
    "split = 'train'\n",
    "\n",
    "df_train = pd.DataFrame()\n",
    "\n",
    "for i in archis:\n",
    "    outfile = 'preds/{d}/{j}_preds/{i}_preds.npy'.format(d=data,j=split, i=i)\n",
    "\n",
    "    df_train[i] = np.reshape(np.load(outfile), (-1)).tolist()\n",
    "    \n",
    "y_train = get_data_label(data, split)"
   ]
  },
  {
   "cell_type": "code",
   "execution_count": 7,
   "metadata": {},
   "outputs": [],
   "source": [
    "archis = ['DenseNet121', 'ResNet50V2', 'Xception', 'MobileNetV2']\n",
    "\n",
    "data = 'mimic'\n",
    "split = 'test'\n",
    "\n",
    "df_eval = pd.DataFrame()\n",
    "\n",
    "for i in archis:\n",
    "    outfile = 'preds/{d}/emory_{j}_preds/{i}_preds.npy'.format(d=data,j=split, i=i)\n",
    "\n",
    "    df_eval[i] = np.reshape(np.load(outfile), (-1)).tolist()\n",
    "    \n",
    "y_label = get_data_label('emory', split)"
   ]
  },
  {
   "cell_type": "markdown",
   "metadata": {},
   "source": [
    "### Logistic Regression"
   ]
  },
  {
   "cell_type": "code",
   "execution_count": 5,
   "metadata": {},
   "outputs": [
    {
     "data": {
      "text/plain": [
       "['stacking_model_merged/LR_model.sav']"
      ]
     },
     "execution_count": 5,
     "metadata": {},
     "output_type": "execute_result"
    }
   ],
   "source": [
    "from sklearn.linear_model import LogisticRegression\n",
    "\n",
    "clf = LogisticRegression(random_state=0).fit(df_train, y_train)\n",
    "\n",
    "filename = 'stacking_model/LR_model.sav'\n",
    "joblib.dump(clf, filename)"
   ]
  },
  {
   "cell_type": "code",
   "execution_count": 8,
   "metadata": {},
   "outputs": [
    {
     "name": "stdout",
     "output_type": "stream",
     "text": [
      "AUC       : 0.74, CI: [0.73 - 0.74]\n",
      "Precision : 0.34, CI: [0.33 - 0.35]\n",
      "Recall    : 0.63, CI: [0.61 - 0.64]\n",
      "F1-Score  : 0.44, CI: [0.43 - 0.45]\n",
      "AUPRC     : 0.41, CI: [0.39 - 0.42]\n",
      "Balanced ACC : 0.67, CI: [0.66 - 0.68]\n",
      "[[-1.42002334  4.11236233  4.57499224 -0.11277668]] [-4.22922766]\n"
     ]
    },
    {
     "data": {
      "text/plain": [
       "0"
      ]
     },
     "execution_count": 8,
     "metadata": {},
     "output_type": "execute_result"
    }
   ],
   "source": [
    "clf = joblib.load('stacking_model/LR_model.sav')\n",
    "\n",
    "y_pred = clf.predict_proba(df_eval)[:, 1]\n",
    "\n",
    "thresh = get_thresh(y_label, y_pred, 'Youden')\n",
    "\n",
    "test_CI(y_pred, y_label, thresh)\n",
    "\n",
    "print(clf.coef_, clf.intercept_)\n",
    "gc.collect()"
   ]
  },
  {
   "cell_type": "markdown",
   "metadata": {},
   "source": [
    "### XGboost"
   ]
  },
  {
   "cell_type": "code",
   "execution_count": 7,
   "metadata": {},
   "outputs": [
    {
     "data": {
      "text/plain": [
       "['stacking_model_merged/xgboost_model.sav']"
      ]
     },
     "execution_count": 7,
     "metadata": {},
     "output_type": "execute_result"
    }
   ],
   "source": [
    "from xgboost import XGBClassifier\n",
    "\n",
    "clf = XGBClassifier()\n",
    "clf.fit(df_train, y_train)\n",
    "\n",
    "filename = 'stacking_model/xgboost_model.sav'\n",
    "joblib.dump(clf, filename)"
   ]
  },
  {
   "cell_type": "code",
   "execution_count": 9,
   "metadata": {},
   "outputs": [
    {
     "name": "stdout",
     "output_type": "stream",
     "text": [
      "AUC       : 0.73, CI: [0.73 - 0.74]\n",
      "Precision : 0.33, CI: [0.32 - 0.34]\n",
      "Recall    : 0.65, CI: [0.64 - 0.66]\n",
      "F1-Score  : 0.44, CI: [0.43 - 0.45]\n",
      "AUPRC     : 0.40, CI: [0.39 - 0.42]\n",
      "Balanced ACC : 0.67, CI: [0.66 - 0.68]\n"
     ]
    },
    {
     "data": {
      "text/plain": [
       "0"
      ]
     },
     "execution_count": 9,
     "metadata": {},
     "output_type": "execute_result"
    }
   ],
   "source": [
    "clf = joblib.load('stacking_model/xgboost_model.sav')\n",
    "\n",
    "y_pred = clf.predict_proba(df_eval)[:, 1]\n",
    "\n",
    "thresh = get_thresh(y_label, y_pred, 'Youden')\n",
    "\n",
    "test_CI(y_pred, y_label, thresh)\n",
    "\n",
    "gc.collect()"
   ]
  },
  {
   "cell_type": "markdown",
   "metadata": {},
   "source": [
    "### KNN"
   ]
  },
  {
   "cell_type": "code",
   "execution_count": 9,
   "metadata": {},
   "outputs": [
    {
     "data": {
      "text/plain": [
       "['stacking_model_merged/KNN_model.sav']"
      ]
     },
     "execution_count": 9,
     "metadata": {},
     "output_type": "execute_result"
    }
   ],
   "source": [
    "from sklearn.neighbors import KNeighborsClassifier\n",
    "\n",
    "clf = KNeighborsClassifier(n_neighbors=30)\n",
    "clf.fit(df_train, y_train)\n",
    "\n",
    "filename = 'stacking_model/KNN_model.sav'\n",
    "joblib.dump(clf, filename)"
   ]
  },
  {
   "cell_type": "code",
   "execution_count": 10,
   "metadata": {},
   "outputs": [
    {
     "name": "stdout",
     "output_type": "stream",
     "text": [
      "AUC       : 0.72, CI: [0.72 - 0.73]\n",
      "Precision : 0.33, CI: [0.32 - 0.34]\n",
      "Recall    : 0.62, CI: [0.61 - 0.63]\n",
      "F1-Score  : 0.43, CI: [0.42 - 0.44]\n",
      "AUPRC     : 0.39, CI: [0.38 - 0.40]\n",
      "Balanced ACC : 0.67, CI: [0.66 - 0.67]\n"
     ]
    },
    {
     "data": {
      "text/plain": [
       "0"
      ]
     },
     "execution_count": 10,
     "metadata": {},
     "output_type": "execute_result"
    }
   ],
   "source": [
    "clf = joblib.load('stacking_model/KNN_model.sav')\n",
    "\n",
    "y_pred = clf.predict_proba(df_eval)[:, 1]\n",
    "\n",
    "thresh = get_thresh(y_label, y_pred, 'Youden')\n",
    "\n",
    "test_CI(y_pred, y_label, thresh)\n",
    "\n",
    "gc.collect()"
   ]
  },
  {
   "cell_type": "markdown",
   "metadata": {},
   "source": [
    "### Random Forest"
   ]
  },
  {
   "cell_type": "code",
   "execution_count": 11,
   "metadata": {},
   "outputs": [
    {
     "data": {
      "text/plain": [
       "['stacking_model_merged/RF_model.sav']"
      ]
     },
     "execution_count": 11,
     "metadata": {},
     "output_type": "execute_result"
    }
   ],
   "source": [
    "from sklearn.ensemble import RandomForestClassifier\n",
    "\n",
    "clf = RandomForestClassifier(max_depth=3, random_state=0, class_weight='balanced')\n",
    "clf.fit(df_train, y_train)\n",
    "\n",
    "filename = 'stacking_model/RF_model.sav'\n",
    "joblib.dump(clf, filename)"
   ]
  },
  {
   "cell_type": "code",
   "execution_count": 11,
   "metadata": {},
   "outputs": [
    {
     "name": "stdout",
     "output_type": "stream",
     "text": [
      "AUC       : 0.74, CI: [0.74 - 0.75]\n",
      "Precision : 0.32, CI: [0.31 - 0.33]\n",
      "Recall    : 0.71, CI: [0.70 - 0.72]\n",
      "F1-Score  : 0.44, CI: [0.43 - 0.45]\n",
      "AUPRC     : 0.41, CI: [0.40 - 0.43]\n",
      "Balanced ACC : 0.68, CI: [0.67 - 0.68]\n"
     ]
    },
    {
     "data": {
      "text/plain": [
       "0"
      ]
     },
     "execution_count": 11,
     "metadata": {},
     "output_type": "execute_result"
    }
   ],
   "source": [
    "clf = joblib.load('stacking_model/RF_model.sav')\n",
    "\n",
    "y_pred = clf.predict_proba(df_eval)[:, 1]\n",
    "\n",
    "thresh = get_thresh(y_label, y_pred, 'Youden')\n",
    "\n",
    "test_CI(y_pred, y_label, thresh)\n",
    "\n",
    "gc.collect()"
   ]
  }
 ],
 "metadata": {
  "kernelspec": {
   "display_name": "Python 3",
   "language": "python",
   "name": "python3"
  },
  "language_info": {
   "codemirror_mode": {
    "name": "ipython",
    "version": 3
   },
   "file_extension": ".py",
   "mimetype": "text/x-python",
   "name": "python",
   "nbconvert_exporter": "python",
   "pygments_lexer": "ipython3",
   "version": "3.7.3"
  }
 },
 "nbformat": 4,
 "nbformat_minor": 5
}
