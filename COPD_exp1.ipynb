{
 "cells": [
  {
   "cell_type": "code",
   "execution_count": null,
   "metadata": {},
   "outputs": [],
   "source": [
    "import os\n",
    "os.environ['TF_CPP_MIN_LOG_LEVEL'] = '3' \n",
    "\n",
    "import warnings\n",
    "warnings.filterwarnings(\"ignore\")\n",
    "\n",
    "from Parse_TFrecords import *\n",
    "from define_model import *\n",
    "from load_label import *\n",
    "from utilities import *\n",
    "import gc\n",
    "import tensorflow as tf\n",
    "tf.compat.v1.logging.set_verbosity(tf.compat.v1.logging.ERROR)\n",
    "\n",
    "import numpy as np\n",
    "from sklearn.metrics import classification_report, average_precision_score\n",
    "\n",
    "# from libauc.losses import AUCMLoss \n",
    "# from libauc.optimizers import PESG \n",
    "\n",
    "gpus = tf.config.experimental.list_physical_devices('GPU')\n",
    "for gpu in gpus:\n",
    "    tf.config.experimental.set_memory_growth(gpu, True)"
   ]
  },
  {
   "cell_type": "code",
   "execution_count": null,
   "metadata": {},
   "outputs": [],
   "source": [
    "BATCH_SIZE = 32\n",
    "\n",
    "# pos = 72917\n",
    "# neg = 263952\n",
    "\n",
    "pos = 32162\n",
    "neg = 149004\n",
    "\n",
    "total = pos+neg\n",
    "\n",
    "weight_for_0 = (1 / neg) * (total / 2.0)\n",
    "weight_for_1 = (1 / pos) * (total / 2.0)\n",
    "\n",
    "class_weight = {0: weight_for_0, 1: weight_for_1}"
   ]
  },
  {
   "cell_type": "code",
   "execution_count": null,
   "metadata": {},
   "outputs": [],
   "source": [
    "filename = ['copd_emory_train.tfrecords', 'copd_emory_val.tfrecords']\n",
    "count = [0, 0]\n",
    "\n",
    "raw_dataset = tf.data.TFRecordDataset(filename)\n",
    "for raw_record in raw_dataset:\n",
    "    example = tf.train.Example()\n",
    "    example.ParseFromString(raw_record.numpy())\n",
    "\n",
    "    count[example.features.feature['COPD'].int64_list.value[0]]+=1\n",
    "    \n",
    "count"
   ]
  },
  {
   "cell_type": "code",
   "execution_count": null,
   "metadata": {},
   "outputs": [],
   "source": [
    "record_file_train = 'copd_emory_train.tfrecords'\n",
    "train_dataset = (tf.data.TFRecordDataset(\n",
    "    record_file_train, buffer_size=BATCH_SIZE, compression_type=None, num_parallel_reads=32)\n",
    ".map(parse_TFrecord_train)\n",
    ".shuffle(BATCH_SIZE)\n",
    ".batch(BATCH_SIZE))\n",
    "\n",
    "record_file_val = 'copd_emory_val.tfrecords'\n",
    "val_dataset = (tf.data.TFRecordDataset(\n",
    "    record_file_val, buffer_size=BATCH_SIZE, compression_type=None, num_parallel_reads=32)\n",
    ".map(parse_TFrecord_train)\n",
    ".batch(BATCH_SIZE))"
   ]
  },
  {
   "cell_type": "code",
   "execution_count": null,
   "metadata": {},
   "outputs": [],
   "source": [
    "archis = ['DenseNet121', 'InceptionV3', 'ResNet50V2', 'InceptionResNetV2', 'Xception', 'MobileNetV2', ]\n",
    "for archi in archis:\n",
    "    checkpoint_filepath = 'checkpoints_emory/checkpoint_BCE_{i}'.format(i=archi)\n",
    "    monitor_ = 'val_loss'\n",
    "\n",
    "    model_checkpoint_callback = tf.keras.callbacks.ModelCheckpoint(\n",
    "        filepath=checkpoint_filepath,\n",
    "        save_best_only=True,\n",
    "        save_weights_only=True,\n",
    "        monitor=monitor_,\n",
    "        mode='min')\n",
    "\n",
    "    callback = [tf.keras.callbacks.LearningRateScheduler(scheduler),\n",
    "                tf.keras.callbacks.EarlyStopping(mode='min', patience=3, monitor=monitor_),\n",
    "                model_checkpoint_callback]\n",
    "\n",
    "    model = load_model_from_pretrain(archi)\n",
    "\n",
    "    loss_func = tf.keras.losses.BinaryCrossentropy(from_logits=True)\n",
    "\n",
    "    model.compile(loss=loss_func,\n",
    "                     optimizer=tf.keras.optimizers.Adam(learning_rate=1e-3), metrics='AUC')\n",
    "   \n",
    "    model.fit(train_dataset, epochs=5, shuffle=True, validation_data=val_dataset, callbacks=callback, class_weight=class_weight)\n",
    "\n",
    "    del model\n",
    "    gc.collect()"
   ]
  },
  {
   "cell_type": "code",
   "execution_count": null,
   "metadata": {},
   "outputs": [],
   "source": [
    "BATCH_SIZE = 32\n",
    "record_file_test = 'copd_emory_test.tfrecords'\n",
    "test_dataset = (tf.data.TFRecordDataset(\n",
    "    record_file_test, buffer_size=BATCH_SIZE, compression_type=None, num_parallel_reads=32)\n",
    ".map(parse_TFrecord_test)\n",
    ".batch(BATCH_SIZE))\n",
    "\n",
    "y_test = get_data_label('test')"
   ]
  },
  {
   "cell_type": "code",
   "execution_count": null,
   "metadata": {},
   "outputs": [],
   "source": [
    "archis = ['DenseNet121', 'InceptionV3', 'ResNet50V2', 'InceptionResNetV2', 'Xception', 'MobileNetV2']\n",
    "\n",
    "for archi in archis:\n",
    "    checkpoint_filepath = 'checkpoints_emory/checkpoint_BCE_{i}'.format(i=archi)\n",
    "    model = define_model(archi)\n",
    "    model.load_weights(checkpoint_filepath)\n",
    "\n",
    "    y_preds = model.predict(test_dataset)\n",
    "    \n",
    "    print(archi)\n",
    "    \n",
    "    test_CI(y_preds, y_test)\n",
    "    \n",
    "    print(average_precision_score(y_test, y_preds, average=None))\n",
    "    \n",
    "    thresh = get_thresh(y_test, y_preds, 'Youden')\n",
    "    print('thresh:', thresh)\n",
    "\n",
    "    print(classification_report(y_test, np.where(y_preds >= thresh, 1, 0)))\n",
    "\n",
    "    gc.collect()"
   ]
  },
  {
   "cell_type": "code",
   "execution_count": null,
   "metadata": {},
   "outputs": [],
   "source": []
  }
 ],
 "metadata": {
  "kernelspec": {
   "display_name": "local-venv",
   "language": "python",
   "name": "local-venv"
  },
  "language_info": {
   "codemirror_mode": {
    "name": "ipython",
    "version": 3
   },
   "file_extension": ".py",
   "mimetype": "text/x-python",
   "name": "python",
   "nbconvert_exporter": "python",
   "pygments_lexer": "ipython3",
   "version": "3.9.7"
  }
 },
 "nbformat": 4,
 "nbformat_minor": 4
}
