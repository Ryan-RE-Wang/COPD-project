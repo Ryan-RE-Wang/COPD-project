{
 "cells": [
  {
   "cell_type": "code",
   "execution_count": null,
   "metadata": {},
   "outputs": [],
   "source": [
    "import os\n",
    "import warnings\n",
    "warnings.filterwarnings(\"ignore\")\n",
    "\n",
    "from Parse_TFrecords import *\n",
    "from define_model import *\n",
    "from load_label import *\n",
    "from utilities import *\n",
    "import gc\n",
    "import tensorflow as tf\n",
    "import numpy as np\n",
    "\n",
    "gpus = tf.config.list_physical_devices(device_type='GPU')\n",
    "tf.config.set_logical_device_configuration(\n",
    "        gpus[1],\n",
    "        [tf.config.LogicalDeviceConfiguration(memory_limit=1024)])\n",
    "tf.config.set_visible_devices(devices=gpus[1], device_type='GPU')\n",
    "\n",
    "\n",
    "archis = ['DenseNet121', 'ResNet50V2', 'MobileNetV2', 'InceptionResNetV2', 'Xception', 'EfficientNetV2S',  'InceptionV3']\n",
    "\n",
    "for archi in archis:\n",
    "    checkpoint_filepath = 'checkpoints_new/checkpoint_BCE_{i}'.format(i=archi)\n",
    "    monitor_ = 'val_loss'\n",
    "\n",
    "    model_checkpoint_callback = tf.keras.callbacks.ModelCheckpoint(\n",
    "        filepath=checkpoint_filepath,\n",
    "        save_best_only=True,\n",
    "        save_weights_only=True,\n",
    "        monitor=monitor_,\n",
    "        mode='min')\n",
    "\n",
    "    callback = [tf.keras.callbacks.LearningRateScheduler(scheduler),\n",
    "                tf.keras.callbacks.EarlyStopping(mode='min', patience=3, monitor=monitor_),\n",
    "                model_checkpoint_callback]\n",
    "\n",
    "    model = load_model_from_pretrain(archi)\n",
    "\n",
    "    loss_func = tf.keras.losses.BinaryCrossentropy(from_logits=True)\n",
    "\n",
    "    model.compile(loss=loss_func,\n",
    "                     optimizer=tf.keras.optimizers.Adam(learning_rate=1e-3), metrics='AUC')\n",
    "   \n",
    "    model.fit(train_dataset, epochs=3, shuffle=True, validation_data=val_dataset, callbacks=callback, class_weight=class_weight)\n",
    "\n",
    "    del model\n",
    "    gc.collect()"
   ]
  },
  {
   "cell_type": "code",
   "execution_count": null,
   "metadata": {},
   "outputs": [],
   "source": [
    "BATCH_SIZE = 32\n",
    "\n",
    "pos = 91553\n",
    "neg = 329838\n",
    "\n",
    "total = pos+neg\n",
    "\n",
    "weight_for_0 = (1 / neg) * (total / 2.0)\n",
    "weight_for_1 = (1 / pos) * (total / 2.0)\n",
    "\n",
    "class_weight = {0: weight_for_0, 1: weight_for_1}"
   ]
  },
  {
   "cell_type": "code",
   "execution_count": null,
   "metadata": {},
   "outputs": [],
   "source": [
    "record_file_train = 'copd_merged_train.tfrecords'\n",
    "train_dataset = (tf.data.TFRecordDataset(\n",
    "    record_file_train, buffer_size=BATCH_SIZE, compression_type=None, num_parallel_reads=32)\n",
    ".map(parse_TFrecord_train)\n",
    ".shuffle(total)\n",
    ".batch(BATCH_SIZE))\n",
    "\n",
    "record_file_val = 'copd_merged_val.tfrecords'\n",
    "val_dataset = (tf.data.TFRecordDataset(\n",
    "    record_file_val, buffer_size=BATCH_SIZE, compression_type=None, num_parallel_reads=32)\n",
    ".map(parse_TFrecord_train)\n",
    ".batch(BATCH_SIZE))\n",
    "\n",
    "record_file_test = 'copd_merged_test.tfrecords'\n",
    "test_dataset = (tf.data.TFRecordDataset(\n",
    "    record_file_test, buffer_size=BATCH_SIZE, compression_type=None, num_parallel_reads=32)\n",
    ".map(parse_TFrecord_test)\n",
    ".batch(BATCH_SIZE))\n",
    "\n",
    "y_test = get_data_label('test')"
   ]
  }
 ],
 "metadata": {
  "kernelspec": {
   "display_name": "envhiti",
   "language": "python",
   "name": "envhiti"
  },
  "language_info": {
   "codemirror_mode": {
    "name": "ipython",
    "version": 3
   },
   "file_extension": ".py",
   "mimetype": "text/x-python",
   "name": "python",
   "nbconvert_exporter": "python",
   "pygments_lexer": "ipython3",
   "version": "3.9.7"
  }
 },
 "nbformat": 4,
 "nbformat_minor": 4
}
