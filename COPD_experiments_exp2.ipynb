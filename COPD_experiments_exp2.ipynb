{
 "cells": [
  {
   "cell_type": "code",
   "execution_count": null,
   "id": "swiss-spare",
   "metadata": {
    "scrolled": false
   },
   "outputs": [],
   "source": [
    "!nvidia-smi"
   ]
  },
  {
   "cell_type": "code",
   "execution_count": null,
   "id": "dirty-migration",
   "metadata": {},
   "outputs": [],
   "source": [
    "import tensorflow as tf\n",
    "import numpy as np\n",
    "import matplotlib.pyplot as plt\n",
    "import skimage.transform as st\n",
    "import os\n",
    "import gc\n",
    "import warnings\n",
    "from sklearn.metrics import classification_report, average_precision_score\n",
    "from Parse_TFrecords import *\n",
    "from define_model import *\n",
    "from load_data import *\n",
    "from utilities import *\n",
    " \n",
    "print(tf.__version__)\n",
    "\n",
    "warnings.filterwarnings(\"ignore\")\n",
    "os.environ['TF_CPP_MIN_LOG_LEVEL'] = '2'\n",
    "\n",
    "gpus = tf.config.list_physical_devices(device_type='GPU')\n",
    "tf.config.set_visible_devices(devices=gpus[0], device_type='GPU')"
   ]
  },
  {
   "cell_type": "code",
   "execution_count": null,
   "id": "integral-celebration",
   "metadata": {},
   "outputs": [],
   "source": [
    "pos = 27297*2\n",
    "neg = 119133\n",
    "\n",
    "total = pos+neg\n",
    "\n",
    "weight_for_0 = (1 / neg) * (total / 2.0)\n",
    "weight_for_1 = (1 / pos) * (total / 2.0)\n",
    "\n",
    "class_weight = {0: weight_for_0, 1: weight_for_1}\n",
    "\n",
    "print('Weight for class 0: {:.2f}'.format(weight_for_0))\n",
    "print('Weight for class 1: {:.2f}'.format(weight_for_1))"
   ]
  },
  {
   "cell_type": "code",
   "execution_count": null,
   "id": "suspected-newspaper",
   "metadata": {},
   "outputs": [],
   "source": [
    "IMG_SIZE = 256\n",
    "\n",
    "# Create a generator\n",
    "\n",
    "data_augmentation_1 = tf.keras.Sequential([\n",
    "  tf.keras.layers.experimental.preprocessing.RandomRotation((-0.01, 0.01), fill_mode='reflect')\n",
    "])\n",
    "\n",
    "data_augmentation_2 = tf.keras.Sequential([\n",
    "  tf.keras.layers.experimental.preprocessing.RandomRotation((-0.005, 0.005), fill_mode='reflect')\n",
    "])"
   ]
  },
  {
   "cell_type": "markdown",
   "id": "beneficial-anthony",
   "metadata": {},
   "source": [
    "## Augmentation"
   ]
  },
  {
   "cell_type": "code",
   "execution_count": null,
   "id": "biblical-silver",
   "metadata": {},
   "outputs": [],
   "source": [
    "BATCH_SIZE = 32\n",
    "checkpoint_filepath = 'checkpoints/AUC/checkpoint_aug'\n",
    "archi = 'Dnet121'\n",
    "monitor_ = 'val_auc'\n",
    "model_checkpoint_callback = tf.keras.callbacks.ModelCheckpoint(\n",
    "    filepath=checkpoint_filepath,\n",
    "    save_best_only=True,\n",
    "    save_weights_only=True,\n",
    "    monitor=monitor_,\n",
    "    mode='max')\n",
    "\n",
    "callback = [tf.keras.callbacks.LearningRateScheduler(scheduler),\n",
    "            tf.keras.callbacks.EarlyStopping(mode='max', patience=3, monitor=monitor_),\n",
    "            model_checkpoint_callback]"
   ]
  },
  {
   "cell_type": "code",
   "execution_count": null,
   "id": "other-picking",
   "metadata": {},
   "outputs": [],
   "source": [
    "record_file_train = 'copd_train_new.tfrecords'\n",
    "train_majority = (tf.data.TFRecordDataset(\n",
    "    record_file_train, compression_type=None, buffer_size=32, num_parallel_reads=32)\n",
    ".map(parse_TFrecord_train)\n",
    ".filter(filter_0)) # filter out negative cases\n",
    "                  \n",
    "train_minority = (tf.data.TFRecordDataset(\n",
    "    record_file_train, compression_type=None, buffer_size=32, num_parallel_reads=32)\n",
    ".map(parse_TFrecord_train)\n",
    ".filter(filter_1)) # filter out positive cases\n",
    "\n",
    "train_majority = train_majority.batch(1).map(lambda x, y: (data_augmentation_1(x, training=True), y), \n",
    "                num_parallel_calls=tf.data.AUTOTUNE).unbatch()\n",
    "\n",
    "train_dataset = train_majority.concatenate(train_minority.batch(1).map(lambda x, y: (data_augmentation_1(x, training=True), y), \n",
    "                num_parallel_calls=tf.data.AUTOTUNE).unbatch())\n",
    "\n",
    "train_dataset = train_dataset.concatenate(train_minority.batch(1).map(lambda x, y: (data_augmentation_2(x, training=True), y), \n",
    "                num_parallel_calls=tf.data.AUTOTUNE).unbatch())\n",
    "\n",
    "train_dataset = train_dataset.shuffle(2*pos+neg).batch(BATCH_SIZE)"
   ]
  },
  {
   "cell_type": "code",
   "execution_count": null,
   "id": "serious-daily",
   "metadata": {},
   "outputs": [],
   "source": [
    "record_file_val = 'copd_val_new.tfrecords'\n",
    "val_majority = (tf.data.TFRecordDataset(\n",
    "    record_file_val, compression_type=None, buffer_size=32, num_parallel_reads=32)\n",
    ".map(parse_TFrecord_train)\n",
    ".filter(filter_0)) # filter out negative cases\n",
    "\n",
    "val_minority = (tf.data.TFRecordDataset(\n",
    "    record_file_val, compression_type=None, buffer_size=32, num_parallel_reads=32)\n",
    ".map(parse_TFrecord_train)\n",
    ".filter(filter_1)) # filter out positive cases\n",
    "\n",
    "val_majority = val_majority.batch(1).map(lambda x, y: (data_augmentation_1(x, training=True), y), \n",
    "                num_parallel_calls=tf.data.AUTOTUNE).unbatch()\n",
    "\n",
    "val_dataset = val_majority.concatenate(val_minority.batch(1).map(lambda x, y: (data_augmentation_1(x, training=True), y), \n",
    "                num_parallel_calls=tf.data.AUTOTUNE).unbatch())\n",
    "\n",
    "val_dataset = val_dataset.concatenate(val_minority.batch(1).map(lambda x, y: (data_augmentation_2(x, training=True), y), \n",
    "                num_parallel_calls=tf.data.AUTOTUNE).unbatch())\n",
    "\n",
    "val_dataset = val_dataset.shuffle(42908).batch(BATCH_SIZE)"
   ]
  },
  {
   "cell_type": "code",
   "execution_count": null,
   "id": "removable-daisy",
   "metadata": {},
   "outputs": [],
   "source": [
    "model = load_model_from_pretrain(archi)\n",
    "\n",
    "metric = tf.keras.metrics.AUC(name='auc')\n",
    "\n",
    "model.compile(loss=tf.keras.losses.BinaryCrossentropy(from_logits=True),\n",
    "                 optimizer=tf.keras.optimizers.Adam(learning_rate=1e-3), metrics=metric)\n",
    "\n",
    "model.fit(train_dataset, epochs=20, shuffle=True, validation_data=val_dataset, callbacks=callback)\n",
    "\n",
    "gc.collect()"
   ]
  },
  {
   "cell_type": "code",
   "execution_count": null,
   "id": "adopted-telephone",
   "metadata": {},
   "outputs": [],
   "source": [
    "checkpoint_filepath = 'checkpoints/AUC/checkpoint_aug'\n",
    "archi = 'Dnet121'\n",
    "\n",
    "model = define_model(archi)\n",
    "\n",
    "model.load_weights(checkpoint_filepath)"
   ]
  },
  {
   "cell_type": "code",
   "execution_count": null,
   "id": "applied-federal",
   "metadata": {},
   "outputs": [],
   "source": [
    "record_file = 'copd_test_new.tfrecords'\n",
    "test_dataset = (tf.data.TFRecordDataset(\n",
    "    record_file, compression_type=None, buffer_size=32, num_parallel_reads=32)\n",
    ".map(parse_TFrecord_train)\n",
    ".batch(32)) # filter out negative cases\n",
    "\n",
    "y_preds = model.predict(test_dataset)"
   ]
  },
  {
   "cell_type": "code",
   "execution_count": null,
   "id": "endless-financing",
   "metadata": {},
   "outputs": [],
   "source": [
    "y_test = get_data_label('test')\n",
    "\n",
    "test_CI(y_preds, y_test)\n",
    "\n",
    "print(average_precision_score(y_test, y_preds, average=None))\n",
    "    \n",
    "thresh = get_thresh(y_test, y_preds, 'Youden')\n",
    "print('thresh:', thresh)\n",
    "        \n",
    "print(classification_report(y_test, np.where(y_preds >= thresh, 1, 0)))\n",
    "\n",
    "thresh = get_thresh(y_test, y_preds, 'G-mean')\n",
    "print('thresh:', thresh)\n",
    "        \n",
    "print(classification_report(y_test, np.where(y_preds >= thresh, 1, 0)))\n",
    "\n",
    "thresh = 0.5\n",
    "print('thresh:', thresh)\n",
    "        \n",
    "print(classification_report(y_test, np.where(y_preds >= thresh, 1, 0)))\n",
    "\n",
    "gc.collect()"
   ]
  },
  {
   "cell_type": "code",
   "execution_count": null,
   "id": "domestic-behavior",
   "metadata": {},
   "outputs": [],
   "source": []
  }
 ],
 "metadata": {
  "kernelspec": {
   "display_name": "Python 3",
   "language": "python",
   "name": "python3"
  },
  "language_info": {
   "codemirror_mode": {
    "name": "ipython",
    "version": 3
   },
   "file_extension": ".py",
   "mimetype": "text/x-python",
   "name": "python",
   "nbconvert_exporter": "python",
   "pygments_lexer": "ipython3",
   "version": "3.7.10"
  }
 },
 "nbformat": 4,
 "nbformat_minor": 5
}
