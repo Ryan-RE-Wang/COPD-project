{
 "cells": [
  {
   "cell_type": "code",
   "execution_count": 1,
   "id": "distinct-farmer",
   "metadata": {
    "scrolled": false
   },
   "outputs": [
    {
     "name": "stdout",
     "output_type": "stream",
     "text": [
      "Fri Nov 26 16:09:21 2021       \r\n",
      "+-----------------------------------------------------------------------------+\r\n",
      "| NVIDIA-SMI 460.67       Driver Version: 460.67       CUDA Version: 11.2     |\r\n",
      "|-------------------------------+----------------------+----------------------+\r\n",
      "| GPU  Name        Persistence-M| Bus-Id        Disp.A | Volatile Uncorr. ECC |\r\n",
      "| Fan  Temp  Perf  Pwr:Usage/Cap|         Memory-Usage | GPU-Util  Compute M. |\r\n",
      "|                               |                      |               MIG M. |\r\n",
      "|===============================+======================+======================|\r\n",
      "|   0  GeForce RTX 3090    Off  | 00000000:65:00.0 Off |                  N/A |\r\n",
      "| 67%   48C    P8    49W / 370W |     45MiB / 24265MiB |      0%      Default |\r\n",
      "|                               |                      |                  N/A |\r\n",
      "+-------------------------------+----------------------+----------------------+\r\n",
      "|   1  GeForce RTX 3090    Off  | 00000000:B3:00.0 Off |                  N/A |\r\n",
      "|  0%   39C    P8    34W / 370W |      5MiB / 24268MiB |      0%      Default |\r\n",
      "|                               |                      |                  N/A |\r\n",
      "+-------------------------------+----------------------+----------------------+\r\n",
      "                                                                               \r\n",
      "+-----------------------------------------------------------------------------+\r\n",
      "| Processes:                                                                  |\r\n",
      "|  GPU   GI   CI        PID   Type   Process name                  GPU Memory |\r\n",
      "|        ID   ID                                                   Usage      |\r\n",
      "|=============================================================================|\r\n",
      "|    0   N/A  N/A      1105      G   /usr/lib/xorg/Xorg                 43MiB |\r\n",
      "|    1   N/A  N/A      1105      G   /usr/lib/xorg/Xorg                  4MiB |\r\n",
      "+-----------------------------------------------------------------------------+\r\n"
     ]
    }
   ],
   "source": [
    "!nvidia-smi"
   ]
  },
  {
   "cell_type": "code",
   "execution_count": 2,
   "id": "taken-color",
   "metadata": {},
   "outputs": [
    {
     "name": "stdout",
     "output_type": "stream",
     "text": [
      "2.5.0\n"
     ]
    }
   ],
   "source": [
    "import tensorflow as tf\n",
    "import numpy as np\n",
    "import matplotlib.pyplot as plt\n",
    "import skimage.transform as st\n",
    "import os\n",
    "import gc\n",
    "import warnings\n",
    "from sklearn.metrics import classification_report, average_precision_score\n",
    "from Parse_TFrecords import *\n",
    "from define_model import *\n",
    "from load_data import *\n",
    "from utilities import *\n",
    " \n",
    "print(tf.__version__)\n",
    "\n",
    "warnings.filterwarnings(\"ignore\")\n",
    "os.environ['TF_CPP_MIN_LOG_LEVEL'] = '2'\n",
    "\n",
    "gpus = tf.config.list_physical_devices(device_type='GPU')\n",
    "tf.config.set_visible_devices(devices=gpus[0], device_type='GPU')"
   ]
  },
  {
   "cell_type": "code",
   "execution_count": 3,
   "id": "owned-programmer",
   "metadata": {},
   "outputs": [
    {
     "name": "stdout",
     "output_type": "stream",
     "text": [
      "Weight for class 0: 0.73\n",
      "Weight for class 1: 1.59\n"
     ]
    }
   ],
   "source": [
    "pos = 27297*2\n",
    "neg = 119133\n",
    "\n",
    "total = pos+neg\n",
    "\n",
    "weight_for_0 = (1 / neg) * (total / 2.0)\n",
    "weight_for_1 = (1 / pos) * (total / 2.0)\n",
    "\n",
    "class_weight = {0: weight_for_0, 1: weight_for_1}\n",
    "\n",
    "print('Weight for class 0: {:.2f}'.format(weight_for_0))\n",
    "print('Weight for class 1: {:.2f}'.format(weight_for_1))"
   ]
  },
  {
   "cell_type": "code",
   "execution_count": 4,
   "id": "stainless-coalition",
   "metadata": {},
   "outputs": [],
   "source": [
    "IMG_SIZE = 256\n",
    "\n",
    "# Create a generator\n",
    "\n",
    "data_augmentation_1 = tf.keras.Sequential([\n",
    "  tf.keras.layers.experimental.preprocessing.RandomRotation((-0.01, 0.01), fill_mode='reflect')\n",
    "])\n",
    "\n",
    "data_augmentation_2 = tf.keras.Sequential([\n",
    "  tf.keras.layers.experimental.preprocessing.RandomRotation((-0.005, 0.005), fill_mode='reflect')\n",
    "])"
   ]
  },
  {
   "cell_type": "markdown",
   "id": "burning-stopping",
   "metadata": {},
   "source": [
    "## Augmentation"
   ]
  },
  {
   "cell_type": "code",
   "execution_count": 5,
   "id": "acting-denver",
   "metadata": {},
   "outputs": [],
   "source": [
    "BATCH_SIZE = 32\n",
    "checkpoint_filepath = 'checkpoints/AUC/checkpoint_aug'\n",
    "archi = 'Dnet121'\n",
    "monitor_ = 'val_auc'\n",
    "model_checkpoint_callback = tf.keras.callbacks.ModelCheckpoint(\n",
    "    filepath=checkpoint_filepath,\n",
    "    save_best_only=True,\n",
    "    save_weights_only=True,\n",
    "    monitor=monitor_,\n",
    "    mode='max')\n",
    "\n",
    "callback = [tf.keras.callbacks.LearningRateScheduler(scheduler),\n",
    "            tf.keras.callbacks.EarlyStopping(mode='max', patience=3, monitor=monitor_),\n",
    "            model_checkpoint_callback]"
   ]
  },
  {
   "cell_type": "code",
   "execution_count": 6,
   "id": "cellular-formation",
   "metadata": {},
   "outputs": [],
   "source": [
    "record_file_train = 'copd_train_new.tfrecords'\n",
    "train_majority = (tf.data.TFRecordDataset(\n",
    "    record_file_train, compression_type=None, buffer_size=32, num_parallel_reads=32)\n",
    ".map(parse_TFrecord_train)\n",
    ".filter(filter_0)) # filter out negative cases\n",
    "                  \n",
    "train_minority = (tf.data.TFRecordDataset(\n",
    "    record_file_train, compression_type=None, buffer_size=32, num_parallel_reads=32)\n",
    ".map(parse_TFrecord_train)\n",
    ".filter(filter_1)) # filter out positive cases\n",
    "\n",
    "train_majority = train_majority.batch(1).map(lambda x, y: (data_augmentation_1(x, training=True), y), \n",
    "                num_parallel_calls=tf.data.AUTOTUNE).unbatch()\n",
    "\n",
    "train_dataset = train_majority.concatenate(train_minority.batch(1).map(lambda x, y: (data_augmentation_1(x, training=True), y), \n",
    "                num_parallel_calls=tf.data.AUTOTUNE).unbatch())\n",
    "\n",
    "train_dataset = train_dataset.concatenate(train_minority.batch(1).map(lambda x, y: (data_augmentation_2(x, training=True), y), \n",
    "                num_parallel_calls=tf.data.AUTOTUNE).unbatch())\n",
    "\n",
    "train_dataset = train_dataset.shuffle(2*pos+neg).batch(BATCH_SIZE)"
   ]
  },
  {
   "cell_type": "code",
   "execution_count": 7,
   "id": "expected-shoulder",
   "metadata": {},
   "outputs": [],
   "source": [
    "record_file_val = 'copd_val_new.tfrecords'\n",
    "val_majority = (tf.data.TFRecordDataset(\n",
    "    record_file_val, compression_type=None, buffer_size=32, num_parallel_reads=32)\n",
    ".map(parse_TFrecord_train)\n",
    ".filter(filter_0)) # filter out negative cases\n",
    "\n",
    "val_minority = (tf.data.TFRecordDataset(\n",
    "    record_file_val, compression_type=None, buffer_size=32, num_parallel_reads=32)\n",
    ".map(parse_TFrecord_train)\n",
    ".filter(filter_1)) # filter out positive cases\n",
    "\n",
    "val_majority = val_majority.batch(1).map(lambda x, y: (data_augmentation_1(x, training=True), y), \n",
    "                num_parallel_calls=tf.data.AUTOTUNE).unbatch()\n",
    "\n",
    "val_dataset = val_majority.concatenate(val_minority.batch(1).map(lambda x, y: (data_augmentation_1(x, training=True), y), \n",
    "                num_parallel_calls=tf.data.AUTOTUNE).unbatch())\n",
    "\n",
    "val_dataset = val_dataset.concatenate(val_minority.batch(1).map(lambda x, y: (data_augmentation_2(x, training=True), y), \n",
    "                num_parallel_calls=tf.data.AUTOTUNE).unbatch())\n",
    "\n",
    "val_dataset = val_dataset.shuffle(42908).batch(BATCH_SIZE)"
   ]
  },
  {
   "cell_type": "code",
   "execution_count": null,
   "id": "peripheral-trauma",
   "metadata": {},
   "outputs": [
    {
     "name": "stdout",
     "output_type": "stream",
     "text": [
      "Epoch 1/20\n",
      "5429/5429 [==============================] - 682s 108ms/step - loss: 0.5421 - auc: 0.7383 - val_loss: 0.8572 - val_auc: 0.7177\n",
      "Epoch 2/20\n",
      "5429/5429 [==============================] - 665s 106ms/step - loss: 0.5062 - auc: 0.7833 - val_loss: 0.5407 - val_auc: 0.7281\n",
      "Epoch 3/20\n",
      "5429/5429 [==============================] - 660s 105ms/step - loss: 0.4758 - auc: 0.8148 - val_loss: 0.5723 - val_auc: 0.7296\n",
      "Epoch 4/20\n",
      "3854/5429 [====================>.........] - ETA: 2:23 - loss: 0.4372 - auc: 0.8485"
     ]
    }
   ],
   "source": [
    "model = load_model_from_pretrain(archi)\n",
    "\n",
    "metric = tf.keras.metrics.AUC(name='auc')\n",
    "\n",
    "model.compile(loss=tf.keras.losses.BinaryCrossentropy(from_logits=True),\n",
    "                 optimizer=tf.keras.optimizers.Adam(learning_rate=1e-3), metrics=metric)\n",
    "\n",
    "model.fit(train_dataset, epochs=20, shuffle=True, validation_data=val_dataset, callbacks=callback)\n",
    "\n",
    "gc.collect()"
   ]
  },
  {
   "cell_type": "code",
   "execution_count": null,
   "id": "exterior-professional",
   "metadata": {},
   "outputs": [],
   "source": [
    "checkpoint_filepath = 'checkpoints/AUC/checkpoint_aug'\n",
    "archi = 'Dnet121'\n",
    "\n",
    "model = define_model(archi)\n",
    "\n",
    "model.load_weights(checkpoint_filepath)"
   ]
  },
  {
   "cell_type": "code",
   "execution_count": 13,
   "id": "following-greene",
   "metadata": {},
   "outputs": [],
   "source": [
    "record_file = 'copd_test_new.tfrecords'\n",
    "test_dataset = (tf.data.TFRecordDataset(\n",
    "    record_file, compression_type=None, buffer_size=32, num_parallel_reads=32)\n",
    ".map(parse_TFrecord_train)\n",
    ".batch(32)) # filter out negative cases\n",
    "\n",
    "y_preds = model.predict(test_dataset)"
   ]
  },
  {
   "cell_type": "code",
   "execution_count": 14,
   "id": "smaller-girlfriend",
   "metadata": {},
   "outputs": [
    {
     "name": "stdout",
     "output_type": "stream",
     "text": [
      "Sample auc mean: 0.72\n",
      "Samole auc std: 0.00\n",
      "Sample auc CI: 0.01\n",
      "Confidence interval for AUC: [0.71 - 0.72]\n",
      "0.3666053301222415\n",
      "thresh: 0.26949644\n",
      "              precision    recall  f1-score   support\n",
      "\n",
      "           0       0.89      0.63      0.74     36808\n",
      "           1       0.31      0.69      0.43      9026\n",
      "\n",
      "    accuracy                           0.64     45834\n",
      "   macro avg       0.60      0.66      0.58     45834\n",
      "weighted avg       0.78      0.64      0.68     45834\n",
      "\n",
      "thresh: 0.26949644\n",
      "              precision    recall  f1-score   support\n",
      "\n",
      "           0       0.89      0.63      0.74     36808\n",
      "           1       0.31      0.69      0.43      9026\n",
      "\n",
      "    accuracy                           0.64     45834\n",
      "   macro avg       0.60      0.66      0.58     45834\n",
      "weighted avg       0.78      0.64      0.68     45834\n",
      "\n",
      "thresh: 0.5\n",
      "              precision    recall  f1-score   support\n",
      "\n",
      "           0       0.85      0.85      0.85     36808\n",
      "           1       0.40      0.41      0.40      9026\n",
      "\n",
      "    accuracy                           0.76     45834\n",
      "   macro avg       0.63      0.63      0.63     45834\n",
      "weighted avg       0.76      0.76      0.76     45834\n",
      "\n"
     ]
    },
    {
     "data": {
      "text/plain": [
       "0"
      ]
     },
     "execution_count": 14,
     "metadata": {},
     "output_type": "execute_result"
    }
   ],
   "source": [
    "y_test = get_data_label('test')\n",
    "\n",
    "test_CI(y_preds, y_test)\n",
    "\n",
    "print(average_precision_score(y_test, y_preds, average=None))\n",
    "    \n",
    "thresh = get_thresh(y_test, y_preds, 'Youden')\n",
    "print('thresh:', thresh)\n",
    "        \n",
    "print(classification_report(y_test, np.where(y_preds >= thresh, 1, 0)))\n",
    "\n",
    "thresh = get_thresh(y_test, y_preds, 'G-mean')\n",
    "print('thresh:', thresh)\n",
    "        \n",
    "print(classification_report(y_test, np.where(y_preds >= thresh, 1, 0)))\n",
    "\n",
    "thresh = 0.5\n",
    "print('thresh:', thresh)\n",
    "        \n",
    "print(classification_report(y_test, np.where(y_preds >= thresh, 1, 0)))\n",
    "\n",
    "gc.collect()"
   ]
  },
  {
   "cell_type": "code",
   "execution_count": null,
   "id": "running-appendix",
   "metadata": {},
   "outputs": [],
   "source": []
  }
 ],
 "metadata": {
  "kernelspec": {
   "display_name": "Python 3",
   "language": "python",
   "name": "python3"
  },
  "language_info": {
   "codemirror_mode": {
    "name": "ipython",
    "version": 3
   },
   "file_extension": ".py",
   "mimetype": "text/x-python",
   "name": "python",
   "nbconvert_exporter": "python",
   "pygments_lexer": "ipython3",
   "version": "3.7.10"
  }
 },
 "nbformat": 4,
 "nbformat_minor": 5
}
