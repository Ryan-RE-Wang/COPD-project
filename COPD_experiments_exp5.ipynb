{
 "cells": [
  {
   "cell_type": "code",
   "execution_count": null,
   "id": "entertaining-immunology",
   "metadata": {
    "scrolled": false
   },
   "outputs": [],
   "source": [
    "!nvidia-smi"
   ]
  },
  {
   "cell_type": "code",
   "execution_count": null,
   "id": "crude-scout",
   "metadata": {},
   "outputs": [],
   "source": [
    "import tensorflow as tf\n",
    "import numpy as np\n",
    "import matplotlib.pyplot as plt\n",
    "import skimage.transform as st\n",
    "import os\n",
    "import gc\n",
    "import warnings\n",
    "from sklearn.metrics import classification_report, average_precision_score\n",
    "from PIL import Image\n",
    "from Parse_TFrecords import *\n",
    "from define_model import *\n",
    "from load_data import *\n",
    "from utilities import *\n",
    " \n",
    "print(tf.__version__)\n",
    "\n",
    "warnings.filterwarnings(\"ignore\")\n",
    "os.environ['TF_CPP_MIN_LOG_LEVEL'] = '2'\n",
    "\n",
    "gpus = tf.config.list_physical_devices(device_type='GPU')\n",
    "tf.config.set_visible_devices(devices=gpus[0], device_type='GPU')"
   ]
  },
  {
   "cell_type": "code",
   "execution_count": null,
   "id": "numeric-challenge",
   "metadata": {},
   "outputs": [],
   "source": [
    "pos = 27297\n",
    "neg = 119133\n",
    "\n",
    "total = pos+neg\n",
    "\n",
    "weight_for_0 = (1 / neg) * (total / 2.0)\n",
    "weight_for_1 = (1 / pos) * (total / 2.0)\n",
    "\n",
    "class_weight = {0: weight_for_0, 1: weight_for_1}\n",
    "\n",
    "print('Weight for class 0: {:.2f}'.format(weight_for_0))\n",
    "print('Weight for class 1: {:.2f}'.format(weight_for_1))"
   ]
  },
  {
   "cell_type": "markdown",
   "id": "behind-medline",
   "metadata": {},
   "source": [
    "# Segmentation images"
   ]
  },
  {
   "cell_type": "code",
   "execution_count": null,
   "id": "impressed-section",
   "metadata": {},
   "outputs": [],
   "source": [
    "import cv2 as cv\n",
    "def coordinate(image):\n",
    "    img = np.array(image, np.float32)\n",
    "    img_zero = np.zeros((img.shape[0], img.shape[1]))\n",
    "\n",
    "    kernel = np.ones((5,5), np.uint8)\n",
    "    erosion = cv.erode(img, kernel, iterations = 1)\n",
    "    dilation = cv.dilate(erosion, kernel, iterations = 1)\n",
    "    plt.imshow(dilation)\n",
    "    x_array = []\n",
    "    y_array = []\n",
    "    for x in range(img.shape[0]):\n",
    "            flag = 0\n",
    "            for y in range(img.shape[1]):\n",
    "                if (dilation[y][x] > 0 and flag == 0):\n",
    "                    flag = 1\n",
    "                    img_zero[y][x] = 100\n",
    "                    x_array.append(x)\n",
    "\n",
    "    for y in range(img.shape[1]):\n",
    "        flag = 0\n",
    "        for x in range(img.shape[0]):\n",
    "                if (dilation[y][x] > 0 and flag == 0):\n",
    "                    flag = 1\n",
    "                    img_zero[y][x] = 100\n",
    "                    y_array.append(y)\n",
    "    img_zero = np.zeros((img.shape[0], img.shape[1]))\n",
    "    try:\n",
    "        bot_right_x = max(x_array)\n",
    "        bot_right_y = max(y_array)\n",
    "        top_left_x = min(x_array)\n",
    "        top_left_y = min(y_array)\n",
    "    except:\n",
    "        return [0, 0, 0, 0]\n",
    "\n",
    "    # di = dilation[top_left_y:bot_right_y+1, top_left_x:bot_right_x+1]\n",
    "    # di = st.resize(di, (256, 256))\n",
    "    # plt.imshow(di)\n",
    "    return [top_left_y, bot_right_y+1, top_left_x, bot_right_x+1]"
   ]
  },
  {
   "cell_type": "code",
   "execution_count": null,
   "id": "returning-firewall",
   "metadata": {},
   "outputs": [],
   "source": [
    "# Load images and retrieve the coordinator contained lungs\n",
    "subject_ids = []\n",
    "study_ids = []\n",
    "coordinates = []\n",
    "filename = ['../AI-Venger/data/segmentation_train.tfrecords']\n",
    "raw_dataset = tf.data.TFRecordDataset(filename)\n",
    "for raw_record in raw_dataset:\n",
    "    #loads data  from the trecord all info \n",
    "    example = tf.train.Example() # subject id and study_id (contains several chest Xrays) \n",
    "    example.ParseFromString(raw_record.numpy()) #reads the example \n",
    "\n",
    "    subject_id = example.features.feature['subject_id'].int64_list.value[0] # change subject_id to type int\n",
    "    study_id = example.features.feature['study_id'].int64_list.value[0]\n",
    "    img_bytes = np.fromstring(example.features.feature['lung_image'].bytes_list.value[0], np.uint8)\n",
    "    img_np = cv.imdecode(img_bytes, cv.IMREAD_GRAYSCALE)\n",
    "    img_np = Image.fromarray(img_np).convert(\"P\")\n",
    "    coordinates.append(coordinate(img_np))\n",
    "    subject_ids.append(subject_id)\n",
    "    study_ids.append(study_id)"
   ]
  },
  {
   "cell_type": "code",
   "execution_count": null,
   "id": "basic-nightlife",
   "metadata": {},
   "outputs": [],
   "source": [
    "import pandas as pd\n",
    "d = {'subject_id': subject_ids, 'study_id': study_ids, 'coordinate': coordinates}\n",
    "df = pd.DataFrame(data=d)\n",
    "df"
   ]
  },
  {
   "cell_type": "code",
   "execution_count": null,
   "id": "infinite-locking",
   "metadata": {},
   "outputs": [],
   "source": [
    "df.to_csv(index=False, path_or_buf='train_coordinate')"
   ]
  },
  {
   "cell_type": "code",
   "execution_count": null,
   "id": "horizontal-holmes",
   "metadata": {},
   "outputs": [],
   "source": [
    "# Load images and retrieve the coordinator contained lungs\n",
    "subject_ids = []\n",
    "study_ids = []\n",
    "coordinates = []\n",
    "filename = ['../AI-Venger/data/segmentation_test.tfrecords']\n",
    "raw_dataset = tf.data.TFRecordDataset(filename)\n",
    "for raw_record in raw_dataset:\n",
    "    #loads data  from the trecord all info \n",
    "    example = tf.train.Example() # subject id and study_id (contains several chest Xrays) \n",
    "    example.ParseFromString(raw_record.numpy()) #reads the example \n",
    "\n",
    "    subject_id = example.features.feature['subject_id'].int64_list.value[0] # change subject_id to type int\n",
    "    study_id = example.features.feature['study_id'].int64_list.value[0]\n",
    "    img_bytes = np.fromstring(example.features.feature['lung_image'].bytes_list.value[0], np.uint8)\n",
    "    img_np = cv.imdecode(img_bytes, cv.IMREAD_GRAYSCALE)\n",
    "    img_np = Image.fromarray(img_np).convert(\"P\")\n",
    "    coordinates.append(coordinate(img_np))\n",
    "    subject_ids.append(subject_id)\n",
    "    study_ids.append(study_id)\n",
    "d = {'subject_id': subject_ids, 'study_id': study_ids, 'coordinate': coordinates}\n",
    "df = pd.DataFrame(data=d)\n",
    "df.to_csv(index=False, path_or_buf='test_coordinate')"
   ]
  },
  {
   "cell_type": "code",
   "execution_count": null,
   "id": "dimensional-official",
   "metadata": {},
   "outputs": [],
   "source": [
    "# Load images and retrieve the coordinator contained lungs\n",
    "subject_ids = []\n",
    "study_ids = []\n",
    "coordinates = []\n",
    "filename = ['../AI-Venger/data/segmentation_val.tfrecords']\n",
    "raw_dataset = tf.data.TFRecordDataset(filename)\n",
    "for raw_record in raw_dataset:\n",
    "    #loads data  from the trecord all info \n",
    "    example = tf.train.Example() # subject id and study_id (contains several chest Xrays) \n",
    "    example.ParseFromString(raw_record.numpy()) #reads the example \n",
    "\n",
    "    subject_id = example.features.feature['subject_id'].int64_list.value[0] # change subject_id to type int\n",
    "    study_id = example.features.feature['study_id'].int64_list.value[0]\n",
    "    img_bytes = np.fromstring(example.features.feature['lung_image'].bytes_list.value[0], np.uint8)\n",
    "    img_np = cv.imdecode(img_bytes, cv.IMREAD_GRAYSCALE)\n",
    "    img_np = Image.fromarray(img_np).convert(\"P\")\n",
    "    coordinates.append(coordinate(img_np))\n",
    "    subject_ids.append(subject_id)\n",
    "    study_ids.append(study_id)\n",
    "d = {'subject_id': subject_ids, 'study_id': study_ids, 'coordinate': coordinates}\n",
    "df = pd.DataFrame(data=d)\n",
    "df.to_csv(index=False, path_or_buf='val_coordinate')"
   ]
  },
  {
   "cell_type": "code",
   "execution_count": null,
   "id": "vulnerable-shoulder",
   "metadata": {},
   "outputs": [],
   "source": [
    "df0 = pd.read_csv('test_coordinate')\n",
    "df1 = pd.read_csv('val_coordinate')\n",
    "df2 = pd.read_csv('train_coordinate')\n",
    "\n",
    "df = pd.concat([df0, df1, df2], ignore_index=True)\n",
    "\n",
    "df.to_csv('seg_coordinate')"
   ]
  },
  {
   "cell_type": "markdown",
   "id": "dying-radiation",
   "metadata": {},
   "source": [
    "## train"
   ]
  },
  {
   "cell_type": "code",
   "execution_count": null,
   "id": "dress-outdoors",
   "metadata": {},
   "outputs": [],
   "source": [
    "checkpoint_filepath = 'checkpoints/AUC/checkpoint_seg_Dnet121'\n",
    "monitor_ = 'val_auc'\n",
    "model_checkpoint_callback = tf.keras.callbacks.ModelCheckpoint(\n",
    "    filepath=checkpoint_filepath,\n",
    "    save_best_only=True,\n",
    "    save_weights_only=True,\n",
    "    monitor=monitor_,\n",
    "    mode='max')\n",
    "\n",
    "callback = [tf.keras.callbacks.LearningRateScheduler(scheduler),\n",
    "            tf.keras.callbacks.EarlyStopping(mode='max', patience=3, monitor=monitor_),\n",
    "            model_checkpoint_callback]"
   ]
  },
  {
   "cell_type": "code",
   "execution_count": null,
   "id": "liberal-forwarding",
   "metadata": {},
   "outputs": [],
   "source": [
    "BATCH_SIZE = 32\n",
    "\n",
    "record_file_train = 'copd_train_seg_new.tfrecords'\n",
    "train_dataset = (tf.data.TFRecordDataset(\n",
    "    record_file_train, buffer_size=BATCH_SIZE*10, compression_type=None, num_parallel_reads=32)\n",
    ".map(parse_TFrecord_train)\n",
    ".shuffle(total)\n",
    ".batch(BATCH_SIZE))\n",
    "\n",
    "record_file_val = 'copd_val_seg_new.tfrecords'\n",
    "val_dataset = (tf.data.TFRecordDataset(\n",
    "    record_file_val, buffer_size=BATCH_SIZE*10, compression_type=None, num_parallel_reads=32)\n",
    ".map(parse_TFrecord_train)\n",
    ".shuffle(36601)\n",
    ".batch(BATCH_SIZE))"
   ]
  },
  {
   "cell_type": "code",
   "execution_count": null,
   "id": "aware-eclipse",
   "metadata": {},
   "outputs": [],
   "source": [
    "model = load_model_from_pretrain('Dnet121')\n",
    "\n",
    "model.summary()\n",
    "\n",
    "metric = tf.keras.metrics.AUC(name='auc')\n",
    "\n",
    "model.compile(loss=tf.keras.losses.BinaryCrossentropy(from_logits=True),\n",
    "                 optimizer=tf.keras.optimizers.Adam(learning_rate=1e-4), metrics=metric)\n",
    "\n",
    "model.fit(train_dataset, epochs=20, shuffle=True, validation_data=val_dataset, callbacks=callback, class_weight=class_weight)\n",
    "\n",
    "gc.collect()"
   ]
  },
  {
   "cell_type": "markdown",
   "id": "written-revelation",
   "metadata": {},
   "source": [
    "## test"
   ]
  },
  {
   "cell_type": "code",
   "execution_count": null,
   "id": "authorized-jumping",
   "metadata": {},
   "outputs": [],
   "source": [
    "record_file_val = 'copd_test_seg_new.tfrecords'\n",
    "test_dataset = (tf.data.TFRecordDataset(\n",
    "    record_file_val, buffer_size=256, compression_type=None, num_parallel_reads=32)\n",
    ".map(parse_TFrecord_test)\n",
    ".batch(BATCH_SIZE))\n",
    "\n",
    "y_test = get_data_label(split='test', category=None, types=0)"
   ]
  },
  {
   "cell_type": "code",
   "execution_count": null,
   "id": "rough-marker",
   "metadata": {
    "scrolled": true
   },
   "outputs": [],
   "source": [
    "checkpoint_filepath = 'checkpoints/AUC/checkpoint_seg_Dnet121'\n",
    "model = load_model_from_pretrain('Dnet121')\n",
    "\n",
    "model.load_weights(checkpoint_filepath)\n",
    "\n",
    "y_preds = model.predict(test_dataset)"
   ]
  },
  {
   "cell_type": "code",
   "execution_count": null,
   "id": "impaired-train",
   "metadata": {
    "scrolled": false
   },
   "outputs": [],
   "source": [
    "# 1034\n",
    "test_CI(y_preds, y_test)\n",
    "\n",
    "print(average_precision_score(y_test, y_preds, average=None))\n",
    "\n",
    "thresh = get_thresh(y_test, y_preds, 'Youden')\n",
    "print('thresh:', thresh)\n",
    "\n",
    "print(classification_report(y_test, np.where(y_preds >= thresh, 1, 0)))\n",
    "\n",
    "thresh = get_thresh(y_test, y_preds, 'G-mean')\n",
    "print('thresh:', thresh)\n",
    "\n",
    "print(classification_report(y_test, np.where(y_preds >= thresh, 1, 0)))\n",
    "\n",
    "thresh = 0.5\n",
    "print('thresh:', thresh)\n",
    "\n",
    "print(classification_report(y_test, np.where(y_preds >= thresh, 1, 0)))\n",
    "\n",
    "gc.collect()"
   ]
  },
  {
   "cell_type": "code",
   "execution_count": null,
   "id": "falling-macedonia",
   "metadata": {},
   "outputs": [],
   "source": []
  }
 ],
 "metadata": {
  "kernelspec": {
   "display_name": "Python 3",
   "language": "python",
   "name": "python3"
  },
  "language_info": {
   "codemirror_mode": {
    "name": "ipython",
    "version": 3
   },
   "file_extension": ".py",
   "mimetype": "text/x-python",
   "name": "python",
   "nbconvert_exporter": "python",
   "pygments_lexer": "ipython3",
   "version": "3.7.10"
  }
 },
 "nbformat": 4,
 "nbformat_minor": 5
}
