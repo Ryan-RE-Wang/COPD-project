{
 "cells": [
  {
   "cell_type": "code",
   "execution_count": null,
   "id": "standard-surface",
   "metadata": {
    "scrolled": false
   },
   "outputs": [],
   "source": [
    "!nvidia-smi"
   ]
  },
  {
   "cell_type": "code",
   "execution_count": null,
   "id": "shaped-marketplace",
   "metadata": {},
   "outputs": [],
   "source": [
    "import tensorflow as tf\n",
    "import numpy as np\n",
    "import matplotlib.pyplot as plt\n",
    "import skimage.transform as st\n",
    "import os\n",
    "import gc\n",
    "import warnings\n",
    "from sklearn.metrics import classification_report, average_precision_score\n",
    "from Parse_TFrecords import *\n",
    "from define_model import *\n",
    "from load_data import *\n",
    "from utilities import *\n",
    " \n",
    "print(tf.__version__)\n",
    "\n",
    "warnings.filterwarnings(\"ignore\")\n",
    "os.environ['TF_CPP_MIN_LOG_LEVEL'] = '2'\n",
    "\n",
    "gpus = tf.config.list_physical_devices(device_type='GPU')\n",
    "tf.config.set_visible_devices(devices=gpus[1], device_type='GPU')"
   ]
  },
  {
   "cell_type": "code",
   "execution_count": null,
   "id": "documented-massachusetts",
   "metadata": {},
   "outputs": [],
   "source": [
    "pos = 27297\n",
    "neg = 119133\n",
    "\n",
    "total = pos+neg\n",
    "\n",
    "weight_for_0 = (1 / neg) * (total / 2.0)\n",
    "weight_for_1 = (1 / pos) * (total / 2.0)\n",
    "\n",
    "class_weight = {0: weight_for_0, 1: weight_for_1}\n",
    "\n",
    "print('Weight for class 0: {:.2f}'.format(weight_for_0))\n",
    "print('Weight for class 1: {:.2f}'.format(weight_for_1))"
   ]
  },
  {
   "cell_type": "markdown",
   "id": "american-count",
   "metadata": {},
   "source": [
    "## Demographic attributes"
   ]
  },
  {
   "cell_type": "code",
   "execution_count": null,
   "id": "floating-music",
   "metadata": {},
   "outputs": [],
   "source": [
    "checkpoint_filepath = 'checkpoints/PrecisionAtRecall/checkpoint_demo'\n",
    "model_checkpoint_callback = tf.keras.callbacks.ModelCheckpoint(\n",
    "    filepath=checkpoint_filepath,\n",
    "    save_best_only=True,\n",
    "    save_weights_only=True,\n",
    "    monitor='val_precision_at_recall',\n",
    "    mode='max')\n",
    "\n",
    "callback = [tf.keras.callbacks.LearningRateScheduler(scheduler),\n",
    "            tf.keras.callbacks.EarlyStopping(mode='max', patience=4, monitor='val_precision_at_recall'),\n",
    "            model_checkpoint_callback]"
   ]
  },
  {
   "cell_type": "code",
   "execution_count": null,
   "id": "determined-samuel",
   "metadata": {},
   "outputs": [],
   "source": [
    "BATCH_SIZE = 32\n",
    "\n",
    "record_file_train = 'copd_train_new.tfrecords'\n",
    "train_dataset = (tf.data.TFRecordDataset(\n",
    "    record_file_train, compression_type=None, buffer_size=32, num_parallel_reads=32)\n",
    ".map(parse_TFrecord_train_demo)\n",
    ".shuffle(total)\n",
    ".batch(BATCH_SIZE))\n",
    "\n",
    "record_file_val = 'copd_val_new.tfrecords'\n",
    "val_dataset = (tf.data.TFRecordDataset(\n",
    "    record_file_val, compression_type=None, buffer_size=32, num_parallel_reads=32)\n",
    ".map(parse_TFrecord_train_demo)\n",
    ".shuffle(36601)\n",
    ".batch(BATCH_SIZE))"
   ]
  },
  {
   "cell_type": "code",
   "execution_count": null,
   "id": "dental-austria",
   "metadata": {},
   "outputs": [],
   "source": [
    "model = define_model_demo('Dnet121')\n",
    "\n",
    "model.summary()\n",
    "\n",
    "metric = tf.keras.metrics.PrecisionAtRecall(recall=0.55, name='precision_at_recall')\n",
    "\n",
    "model.compile(loss=tf.keras.losses.BinaryCrossentropy(from_logits=True),\n",
    "                 optimizer=tf.keras.optimizers.Adam(learning_rate=1e-3), metrics=metric)\n",
    "\n",
    "model.fit(train_dataset, epochs=20, shuffle=True, validation_data=val_dataset, callbacks=callback, class_weight=class_weight)\n",
    "\n",
    "gc.collect()"
   ]
  },
  {
   "cell_type": "code",
   "execution_count": null,
   "id": "turkish-giant",
   "metadata": {
    "scrolled": false
   },
   "outputs": [],
   "source": [
    "# checkpoint_filepath = 'checkpoints/PrecisionAtRecall/checkpoint_demo'\n",
    "\n",
    "# model = define_model_demo()\n",
    "\n",
    "# model.load_weights(checkpoint_filepath)\n",
    "\n",
    "test_image, test_demo, y_test = get_test_data_demo()\n",
    "\n",
    "y_preds = model.predict([test_image, test_demo])"
   ]
  },
  {
   "cell_type": "code",
   "execution_count": null,
   "id": "alpine-powell",
   "metadata": {},
   "outputs": [],
   "source": [
    "test_CI(y_preds, y_test)\n",
    "\n",
    "thresh = get_thresh(y_test, y_preds, 'Youden')\n",
    "\n",
    "print(thresh)\n",
    "print(classification_report(y_test, np.where(y_preds >= thresh, 1, 0)))\n",
    "print(average_precision_score(y_test, y_preds, average=None))\n",
    "\n",
    "gc.collect()"
   ]
  },
  {
   "cell_type": "code",
   "execution_count": null,
   "id": "encouraging-peoples",
   "metadata": {
    "scrolled": false
   },
   "outputs": [],
   "source": [
    "for i in range(2):\n",
    "\n",
    "    test_image, test_demo, y_test = get_test_data_demo(category='Gender', types=i)\n",
    "\n",
    "    y_preds = model.predict([test_image, test_demo])\n",
    "\n",
    "    test_CI(y_preds, y_test)\n",
    "\n",
    "    thresh = get_thresh(y_test, y_preds)\n",
    "\n",
    "    print(classification_report(y_test, np.where(y_preds >= thresh, 1, 0)))\n",
    "    print(average_precision_score(y_test, y_preds, average=None))\n",
    "\n",
    "    del test_image, test_demo, y_test, y_preds\n",
    "    gc.collect()"
   ]
  },
  {
   "cell_type": "code",
   "execution_count": null,
   "id": "illegal-windsor",
   "metadata": {},
   "outputs": [],
   "source": [
    "for i in range(5):\n",
    "\n",
    "    test_image, test_demo, y_test = get_test_data_demo(category='Race', types=i)\n",
    "\n",
    "    y_preds = model.predict([test_image, test_demo])\n",
    "\n",
    "    test_CI(y_preds, y_test)\n",
    "\n",
    "    thresh = get_thresh(y_test, y_preds)\n",
    "\n",
    "    print(classification_report(y_test, np.where(y_preds >= thresh, 1, 0)))\n",
    "    print(average_precision_score(y_test, y_preds, average=None))\n",
    "\n",
    "    del test_image, test_demo, y_test, y_preds\n",
    "    gc.collect()"
   ]
  },
  {
   "cell_type": "code",
   "execution_count": null,
   "id": "dangerous-shock",
   "metadata": {},
   "outputs": [],
   "source": [
    "for i in range(4):\n",
    "\n",
    "    test_image, test_demo, y_test = get_test_data_demo(category='Age', types=i)\n",
    "\n",
    "    y_preds = model.predict([test_image, test_demo])\n",
    "\n",
    "    test_CI(y_preds, y_test)\n",
    "\n",
    "    thresh = get_thresh(y_test, y_preds)\n",
    "\n",
    "    print(classification_report(y_test, np.where(y_preds >= thresh, 1, 0)))\n",
    "    print(average_precision_score(y_test, y_preds, average=None))\n",
    "\n",
    "    del test_image, test_demo, y_test, y_preds\n",
    "    gc.collect()"
   ]
  }
 ],
 "metadata": {
  "kernelspec": {
   "display_name": "Python 3",
   "language": "python",
   "name": "python3"
  },
  "language_info": {
   "codemirror_mode": {
    "name": "ipython",
    "version": 3
   },
   "file_extension": ".py",
   "mimetype": "text/x-python",
   "name": "python",
   "nbconvert_exporter": "python",
   "pygments_lexer": "ipython3",
   "version": "3.7.10"
  }
 },
 "nbformat": 4,
 "nbformat_minor": 5
}
